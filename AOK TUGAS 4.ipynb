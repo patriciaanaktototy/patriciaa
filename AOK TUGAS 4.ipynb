{
 "cells": [
  {
   "cell_type": "markdown",
   "metadata": {},
   "source": [
    "# Uji Test Data"
   ]
  },
  {
   "cell_type": "markdown",
   "metadata": {},
   "source": [
    "#### Membuat uji data dengan test Alpha cronbach, T-test, dan Principal Component Analysis (PCA) menggunakan bahasa R"
   ]
  },
  {
   "cell_type": "markdown",
   "metadata": {},
   "source": [
    "### 1. Uji Data dengan Alpha Crochbach"
   ]
  },
  {
   "cell_type": "code",
   "execution_count": 91,
   "metadata": {},
   "outputs": [],
   "source": [
    "options(warn=-1)\n",
    "mydata<-read.csv('AOK data baru.csv')"
   ]
  },
  {
   "cell_type": "code",
   "execution_count": 92,
   "metadata": {},
   "outputs": [
    {
     "data": {
      "text/html": [
       "<table>\n",
       "<thead><tr><th scope=col>Responded</th><th scope=col>Q1</th><th scope=col>Q2</th><th scope=col>Q3</th><th scope=col>Q4</th><th scope=col>Q5</th><th scope=col>Q6</th><th scope=col>Q7</th><th scope=col>Q8</th></tr></thead>\n",
       "<tbody>\n",
       "\t<tr><td>Responded 1</td><td>2          </td><td>2          </td><td>3          </td><td>2          </td><td>2          </td><td>4          </td><td>2          </td><td>4          </td></tr>\n",
       "\t<tr><td>Responded 2</td><td>1          </td><td>2          </td><td>2          </td><td>2          </td><td>2          </td><td>1          </td><td>1          </td><td>3          </td></tr>\n",
       "\t<tr><td>Responded 3</td><td>1          </td><td>2          </td><td>2          </td><td>2          </td><td>2          </td><td>1          </td><td>1          </td><td>2          </td></tr>\n",
       "\t<tr><td>Responded 4</td><td>1          </td><td>2          </td><td>2          </td><td>2          </td><td>1          </td><td>2          </td><td>2          </td><td>2          </td></tr>\n",
       "\t<tr><td>Responded 5</td><td>5          </td><td>1          </td><td>2          </td><td>3          </td><td>4          </td><td>1          </td><td>1          </td><td>2          </td></tr>\n",
       "\t<tr><td>Responded 6</td><td>2          </td><td>1          </td><td>2          </td><td>1          </td><td>3          </td><td>2          </td><td>2          </td><td>2          </td></tr>\n",
       "</tbody>\n",
       "</table>\n"
      ],
      "text/latex": [
       "\\begin{tabular}{r|lllllllll}\n",
       " Responded & Q1 & Q2 & Q3 & Q4 & Q5 & Q6 & Q7 & Q8\\\\\n",
       "\\hline\n",
       "\t Responded 1 & 2           & 2           & 3           & 2           & 2           & 4           & 2           & 4          \\\\\n",
       "\t Responded 2 & 1           & 2           & 2           & 2           & 2           & 1           & 1           & 3          \\\\\n",
       "\t Responded 3 & 1           & 2           & 2           & 2           & 2           & 1           & 1           & 2          \\\\\n",
       "\t Responded 4 & 1           & 2           & 2           & 2           & 1           & 2           & 2           & 2          \\\\\n",
       "\t Responded 5 & 5           & 1           & 2           & 3           & 4           & 1           & 1           & 2          \\\\\n",
       "\t Responded 6 & 2           & 1           & 2           & 1           & 3           & 2           & 2           & 2          \\\\\n",
       "\\end{tabular}\n"
      ],
      "text/markdown": [
       "\n",
       "| Responded | Q1 | Q2 | Q3 | Q4 | Q5 | Q6 | Q7 | Q8 |\n",
       "|---|---|---|---|---|---|---|---|---|\n",
       "| Responded 1 | 2           | 2           | 3           | 2           | 2           | 4           | 2           | 4           |\n",
       "| Responded 2 | 1           | 2           | 2           | 2           | 2           | 1           | 1           | 3           |\n",
       "| Responded 3 | 1           | 2           | 2           | 2           | 2           | 1           | 1           | 2           |\n",
       "| Responded 4 | 1           | 2           | 2           | 2           | 1           | 2           | 2           | 2           |\n",
       "| Responded 5 | 5           | 1           | 2           | 3           | 4           | 1           | 1           | 2           |\n",
       "| Responded 6 | 2           | 1           | 2           | 1           | 3           | 2           | 2           | 2           |\n",
       "\n"
      ],
      "text/plain": [
       "  Responded   Q1 Q2 Q3 Q4 Q5 Q6 Q7 Q8\n",
       "1 Responded 1 2  2  3  2  2  4  2  4 \n",
       "2 Responded 2 1  2  2  2  2  1  1  3 \n",
       "3 Responded 3 1  2  2  2  2  1  1  2 \n",
       "4 Responded 4 1  2  2  2  1  2  2  2 \n",
       "5 Responded 5 5  1  2  3  4  1  1  2 \n",
       "6 Responded 6 2  1  2  1  3  2  2  2 "
      ]
     },
     "metadata": {},
     "output_type": "display_data"
    }
   ],
   "source": [
    "head(mydata)"
   ]
  },
  {
   "cell_type": "code",
   "execution_count": 93,
   "metadata": {},
   "outputs": [],
   "source": [
    "library('psych')"
   ]
  },
  {
   "cell_type": "code",
   "execution_count": 94,
   "metadata": {},
   "outputs": [
    {
     "data": {
      "text/plain": [
       "\n",
       "Reliability analysis   \n",
       "Call: alpha(x = mydata)\n",
       "\n",
       "  raw_alpha std.alpha G6(smc) average_r S/N   ase mean   sd median_r\n",
       "      0.61      0.63    0.63      0.18 1.7 0.025  2.2 0.47     0.15\n",
       "\n",
       " lower alpha upper     95% confidence boundaries\n",
       "0.56 0.61 0.66 \n",
       "\n",
       " Reliability if an item is dropped:\n",
       "   raw_alpha std.alpha G6(smc) average_r S/N alpha se  var.r med.r\n",
       "Q1      0.61      0.63    0.61      0.19 1.7    0.026 0.0104  0.16\n",
       "Q2      0.60      0.61    0.61      0.18 1.6    0.026 0.0132  0.15\n",
       "Q3      0.59      0.60    0.59      0.18 1.5    0.027 0.0109  0.15\n",
       "Q4      0.59      0.60    0.60      0.18 1.5    0.027 0.0124  0.15\n",
       "Q5      0.55      0.57    0.56      0.16 1.3    0.030 0.0081  0.15\n",
       "Q6      0.56      0.58    0.56      0.16 1.4    0.029 0.0071  0.15\n",
       "Q7      0.56      0.57    0.56      0.16 1.3    0.029 0.0084  0.15\n",
       "Q8      0.60      0.62    0.61      0.19 1.6    0.026 0.0103  0.15\n",
       "\n",
       " Item statistics \n",
       "     n raw.r std.r r.cor r.drop mean   sd\n",
       "Q1 528  0.47  0.44  0.29   0.23  1.8 0.97\n",
       "Q2 528  0.56  0.48  0.34   0.28  3.2 1.23\n",
       "Q3 528  0.48  0.51  0.40   0.30  2.1 0.79\n",
       "Q4 528  0.48  0.51  0.39   0.30  2.5 0.76\n",
       "Q5 528  0.59  0.61  0.54   0.42  2.1 0.84\n",
       "Q6 528  0.60  0.59  0.53   0.39  2.0 0.99\n",
       "Q7 528  0.57  0.60  0.54   0.41  1.7 0.74\n",
       "Q8 528  0.45  0.47  0.32   0.24  2.3 0.86\n",
       "\n",
       "Non missing response frequency for each item\n",
       "      1    2    3    4    5 miss\n",
       "Q1 0.40 0.50 0.03 0.02 0.05    0\n",
       "Q2 0.05 0.32 0.16 0.27 0.18    0\n",
       "Q3 0.16 0.62 0.17 0.04 0.02    0\n",
       "Q4 0.06 0.43 0.43 0.07 0.01    0\n",
       "Q5 0.23 0.54 0.15 0.07 0.01    0\n",
       "Q6 0.30 0.51 0.05 0.11 0.02    0\n",
       "Q7 0.41 0.48 0.09 0.02 0.01    0\n",
       "Q8 0.14 0.57 0.18 0.10 0.01    0"
      ]
     },
     "metadata": {},
     "output_type": "display_data"
    },
    {
     "name": "stdout",
     "output_type": "stream",
     "text": [
      "[1] \"Q1 = Pada saat ini, microsoft office merupakan aplikasi yang paling banyak digunakan di seluruh dunia\"\n",
      "[1] \"Q2 = Tahukah bahwa Microsoft Office pernah merilis Office online\"\n",
      "[1] \"Q3 = Microsoft Office merupakan yang paling berkualitas dibandingkan software office yang lainnya\"\n",
      "[1] \"Q4 = Harga Office sofware 2019 versi Home and Students adalah Rp.1,45 juta,dengan harga begitu,setarakah dengan kualitasnya\"\n",
      "[1] \"Q5 = Seberapa meningkatnya kemampuan Microsoft Office anda jika dibandingkan waktu SMA dan sekarang\"\n",
      "[1] \"Q6 = Seberapa meningkatnya pengetahuan anda tentang membuat laporan setelah menggunakan Microsoft word\"\n",
      "[1] \"Q7 = Seberapa efisienkah mengolah pembukuan dengan Microsoft Office dibandingkan dengan manual\"\n",
      "[1] \"Q8 = Seberapa banyak program office selain Microsoft office\"\n"
     ]
    }
   ],
   "source": [
    "alpha(mydata)\n",
    "print('Q1 = Pada saat ini, microsoft office merupakan aplikasi yang paling banyak digunakan di seluruh dunia')\n",
    "print('Q2 = Tahukah bahwa Microsoft Office pernah merilis Office online')\n",
    "print('Q3 = Microsoft Office merupakan yang paling berkualitas dibandingkan software office yang lainnya')\n",
    "print('Q4 = Harga Office sofware 2019 versi Home and Students adalah Rp.1,45 juta,dengan harga begitu,setarakah dengan kualitasnya')\n",
    "print('Q5 = Seberapa meningkatnya kemampuan Microsoft Office anda jika dibandingkan waktu SMA dan sekarang')\n",
    "print('Q6 = Seberapa meningkatnya pengetahuan anda tentang membuat laporan setelah menggunakan Microsoft word')\n",
    "print('Q7 = Seberapa efisienkah mengolah pembukuan dengan Microsoft Office dibandingkan dengan manual')\n",
    "print('Q8 = Seberapa banyak program office selain Microsoft office')"
   ]
  },
  {
   "cell_type": "markdown",
   "metadata": {},
   "source": [
    "### 2. Uji Data dengan T-test"
   ]
  },
  {
   "cell_type": "code",
   "execution_count": 95,
   "metadata": {},
   "outputs": [],
   "source": [
    "x<-read.csv('AOK data baru.csv')"
   ]
  },
  {
   "cell_type": "code",
   "execution_count": 96,
   "metadata": {},
   "outputs": [
    {
     "data": {
      "text/html": [
       "<table>\n",
       "<thead><tr><th scope=col>Responded</th><th scope=col>Q1</th><th scope=col>Q2</th><th scope=col>Q3</th><th scope=col>Q4</th><th scope=col>Q5</th><th scope=col>Q6</th><th scope=col>Q7</th><th scope=col>Q8</th></tr></thead>\n",
       "<tbody>\n",
       "\t<tr><td>Responded 1</td><td>2          </td><td>2          </td><td>3          </td><td>2          </td><td>2          </td><td>4          </td><td>2          </td><td>4          </td></tr>\n",
       "\t<tr><td>Responded 2</td><td>1          </td><td>2          </td><td>2          </td><td>2          </td><td>2          </td><td>1          </td><td>1          </td><td>3          </td></tr>\n",
       "\t<tr><td>Responded 3</td><td>1          </td><td>2          </td><td>2          </td><td>2          </td><td>2          </td><td>1          </td><td>1          </td><td>2          </td></tr>\n",
       "\t<tr><td>Responded 4</td><td>1          </td><td>2          </td><td>2          </td><td>2          </td><td>1          </td><td>2          </td><td>2          </td><td>2          </td></tr>\n",
       "\t<tr><td>Responded 5</td><td>5          </td><td>1          </td><td>2          </td><td>3          </td><td>4          </td><td>1          </td><td>1          </td><td>2          </td></tr>\n",
       "\t<tr><td>Responded 6</td><td>2          </td><td>1          </td><td>2          </td><td>1          </td><td>3          </td><td>2          </td><td>2          </td><td>2          </td></tr>\n",
       "</tbody>\n",
       "</table>\n"
      ],
      "text/latex": [
       "\\begin{tabular}{r|lllllllll}\n",
       " Responded & Q1 & Q2 & Q3 & Q4 & Q5 & Q6 & Q7 & Q8\\\\\n",
       "\\hline\n",
       "\t Responded 1 & 2           & 2           & 3           & 2           & 2           & 4           & 2           & 4          \\\\\n",
       "\t Responded 2 & 1           & 2           & 2           & 2           & 2           & 1           & 1           & 3          \\\\\n",
       "\t Responded 3 & 1           & 2           & 2           & 2           & 2           & 1           & 1           & 2          \\\\\n",
       "\t Responded 4 & 1           & 2           & 2           & 2           & 1           & 2           & 2           & 2          \\\\\n",
       "\t Responded 5 & 5           & 1           & 2           & 3           & 4           & 1           & 1           & 2          \\\\\n",
       "\t Responded 6 & 2           & 1           & 2           & 1           & 3           & 2           & 2           & 2          \\\\\n",
       "\\end{tabular}\n"
      ],
      "text/markdown": [
       "\n",
       "| Responded | Q1 | Q2 | Q3 | Q4 | Q5 | Q6 | Q7 | Q8 |\n",
       "|---|---|---|---|---|---|---|---|---|\n",
       "| Responded 1 | 2           | 2           | 3           | 2           | 2           | 4           | 2           | 4           |\n",
       "| Responded 2 | 1           | 2           | 2           | 2           | 2           | 1           | 1           | 3           |\n",
       "| Responded 3 | 1           | 2           | 2           | 2           | 2           | 1           | 1           | 2           |\n",
       "| Responded 4 | 1           | 2           | 2           | 2           | 1           | 2           | 2           | 2           |\n",
       "| Responded 5 | 5           | 1           | 2           | 3           | 4           | 1           | 1           | 2           |\n",
       "| Responded 6 | 2           | 1           | 2           | 1           | 3           | 2           | 2           | 2           |\n",
       "\n"
      ],
      "text/plain": [
       "  Responded   Q1 Q2 Q3 Q4 Q5 Q6 Q7 Q8\n",
       "1 Responded 1 2  2  3  2  2  4  2  4 \n",
       "2 Responded 2 1  2  2  2  2  1  1  3 \n",
       "3 Responded 3 1  2  2  2  2  1  1  2 \n",
       "4 Responded 4 1  2  2  2  1  2  2  2 \n",
       "5 Responded 5 5  1  2  3  4  1  1  2 \n",
       "6 Responded 6 2  1  2  1  3  2  2  2 "
      ]
     },
     "metadata": {},
     "output_type": "display_data"
    }
   ],
   "source": [
    "head(x)"
   ]
  },
  {
   "cell_type": "code",
   "execution_count": 97,
   "metadata": {},
   "outputs": [
    {
     "data": {
      "text/html": [
       "<ol class=list-inline>\n",
       "\t<li>'Q1'</li>\n",
       "\t<li>'Q2'</li>\n",
       "</ol>\n"
      ],
      "text/latex": [
       "\\begin{enumerate*}\n",
       "\\item 'Q1'\n",
       "\\item 'Q2'\n",
       "\\end{enumerate*}\n"
      ],
      "text/markdown": [
       "1. 'Q1'\n",
       "2. 'Q2'\n",
       "\n",
       "\n"
      ],
      "text/plain": [
       "[1] \"Q1\" \"Q2\""
      ]
     },
     "metadata": {},
     "output_type": "display_data"
    }
   ],
   "source": [
    "Ttest_data = read.csv (file.choose(),header=T)\n",
    "names(Ttest_data)"
   ]
  },
  {
   "cell_type": "code",
   "execution_count": 98,
   "metadata": {},
   "outputs": [
    {
     "name": "stderr",
     "output_type": "stream",
     "text": [
      "The following objects are masked from mydata:\n",
      "\n",
      "    Q1, Q2\n",
      "\n",
      "The following object is masked from Ttest_data (pos = 19):\n",
      "\n",
      "    Q2\n",
      "\n",
      "The following object is masked from Ttest_data (pos = 20):\n",
      "\n",
      "    Q2\n",
      "\n",
      "The following object is masked from Ttest_data (pos = 21):\n",
      "\n",
      "    Q2\n",
      "\n",
      "The following object is masked from Ttest_data (pos = 22):\n",
      "\n",
      "    Q2\n",
      "\n",
      "The following object is masked from Ttest_data (pos = 23):\n",
      "\n",
      "    Q2\n",
      "\n",
      "The following object is masked from Ttest_data (pos = 24):\n",
      "\n",
      "    Q2\n",
      "\n",
      "The following object is masked from Ttest_data (pos = 25):\n",
      "\n",
      "    Q1\n",
      "\n",
      "The following object is masked from Ttest_data (pos = 26):\n",
      "\n",
      "    Q1\n",
      "\n",
      "The following object is masked from Ttest_data (pos = 27):\n",
      "\n",
      "    Q1\n",
      "\n",
      "The following object is masked from Ttest_data (pos = 28):\n",
      "\n",
      "    Q1\n",
      "\n",
      "The following object is masked from Ttest_data (pos = 29):\n",
      "\n",
      "    Q1\n",
      "\n",
      "The following object is masked from Ttest_data (pos = 30):\n",
      "\n",
      "    Q1\n",
      "\n",
      "The following objects are masked from Ttest_data (pos = 31):\n",
      "\n",
      "    Q1, Q2\n",
      "\n"
     ]
    },
    {
     "data": {
      "text/plain": [
       "\n",
       "\tPaired t-test\n",
       "\n",
       "data:  Q1 and Q2\n",
       "t = -22.211, df = 527, p-value < 2.2e-16\n",
       "alternative hypothesis: true difference in means is not equal to 0\n",
       "99 percent confidence interval:\n",
       " -1.539266 -1.218309\n",
       "sample estimates:\n",
       "mean of the differences \n",
       "              -1.378788 \n"
      ]
     },
     "metadata": {},
     "output_type": "display_data"
    },
    {
     "name": "stdout",
     "output_type": "stream",
     "text": [
      "[1] \"Q1 = Pada saat ini, microsoft office merupakan aplikasi yang paling banyak digunakan di seluruh dunia\"\n",
      "[1] \"Q2 = Tahukah bahwa Microsoft Office pernah merilis Office online\"\n"
     ]
    }
   ],
   "source": [
    "attach (Ttest_data)\n",
    "t.test (Q1, Q2, mu=0, alt=\"two.sided\", paired=T, conf.level=0.99)\n",
    "print('Q1 = Pada saat ini, microsoft office merupakan aplikasi yang paling banyak digunakan di seluruh dunia')\n",
    "print('Q2 = Tahukah bahwa Microsoft Office pernah merilis Office online')"
   ]
  },
  {
   "cell_type": "code",
   "execution_count": 99,
   "metadata": {},
   "outputs": [
    {
     "data": {
      "text/html": [
       "<ol class=list-inline>\n",
       "\t<li>'Q1'</li>\n",
       "\t<li>'Q3'</li>\n",
       "</ol>\n"
      ],
      "text/latex": [
       "\\begin{enumerate*}\n",
       "\\item 'Q1'\n",
       "\\item 'Q3'\n",
       "\\end{enumerate*}\n"
      ],
      "text/markdown": [
       "1. 'Q1'\n",
       "2. 'Q3'\n",
       "\n",
       "\n"
      ],
      "text/plain": [
       "[1] \"Q1\" \"Q3\""
      ]
     },
     "metadata": {},
     "output_type": "display_data"
    }
   ],
   "source": [
    "Ttest_data = read.csv (file.choose(),header=T)\n",
    "names(Ttest_data)"
   ]
  },
  {
   "cell_type": "code",
   "execution_count": 10,
   "metadata": {},
   "outputs": [
    {
     "name": "stderr",
     "output_type": "stream",
     "text": [
      "The following object is masked from Ttest_data (pos = 3):\n",
      "\n",
      "    Q1\n",
      "\n"
     ]
    },
    {
     "data": {
      "text/plain": [
       "\n",
       "\tPaired t-test\n",
       "\n",
       "data:  Q1 and Q2\n",
       "t = -22.211, df = 527, p-value < 2.2e-16\n",
       "alternative hypothesis: true difference in means is not equal to 0\n",
       "99 percent confidence interval:\n",
       " -1.539266 -1.218309\n",
       "sample estimates:\n",
       "mean of the differences \n",
       "              -1.378788 \n"
      ]
     },
     "metadata": {},
     "output_type": "display_data"
    },
    {
     "name": "stdout",
     "output_type": "stream",
     "text": [
      "[1] \"Q1 = Pada saat ini, microsoft office merupakan aplikasi yang paling banyak digunakan di seluruh dunia\"\n",
      "[1] \"Q3 = Microsoft Office merupakan yang paling berkualitas dibandingkan software office yang lainnya\"\n"
     ]
    }
   ],
   "source": [
    "attach (Ttest_data)\n",
    "t.test (Q1, Q2, mu=0, alt=\"two.sided\", paired=T, conf.level=0.99)\n",
    "print('Q1 = Pada saat ini, microsoft office merupakan aplikasi yang paling banyak digunakan di seluruh dunia')\n",
    "print('Q3 = Microsoft Office merupakan yang paling berkualitas dibandingkan software office yang lainnya')"
   ]
  },
  {
   "cell_type": "code",
   "execution_count": 11,
   "metadata": {},
   "outputs": [
    {
     "data": {
      "text/html": [
       "<ol class=list-inline>\n",
       "\t<li>'Q1'</li>\n",
       "\t<li>'Q4'</li>\n",
       "</ol>\n"
      ],
      "text/latex": [
       "\\begin{enumerate*}\n",
       "\\item 'Q1'\n",
       "\\item 'Q4'\n",
       "\\end{enumerate*}\n"
      ],
      "text/markdown": [
       "1. 'Q1'\n",
       "2. 'Q4'\n",
       "\n",
       "\n"
      ],
      "text/plain": [
       "[1] \"Q1\" \"Q4\""
      ]
     },
     "metadata": {},
     "output_type": "display_data"
    }
   ],
   "source": [
    "Ttest_data = read.csv (file.choose(),header=T)\n",
    "names(Ttest_data)"
   ]
  },
  {
   "cell_type": "code",
   "execution_count": 12,
   "metadata": {},
   "outputs": [
    {
     "name": "stderr",
     "output_type": "stream",
     "text": [
      "The following object is masked from Ttest_data (pos = 3):\n",
      "\n",
      "    Q1\n",
      "\n",
      "The following object is masked from Ttest_data (pos = 4):\n",
      "\n",
      "    Q1\n",
      "\n"
     ]
    },
    {
     "data": {
      "text/plain": [
       "\n",
       "\tPaired t-test\n",
       "\n",
       "data:  Q1 and Q2\n",
       "t = -22.211, df = 527, p-value < 2.2e-16\n",
       "alternative hypothesis: true difference in means is not equal to 0\n",
       "99 percent confidence interval:\n",
       " -1.539266 -1.218309\n",
       "sample estimates:\n",
       "mean of the differences \n",
       "              -1.378788 \n"
      ]
     },
     "metadata": {},
     "output_type": "display_data"
    },
    {
     "name": "stdout",
     "output_type": "stream",
     "text": [
      "[1] \"Q1 = Pada saat ini, microsoft office merupakan aplikasi yang paling banyak digunakan di seluruh dunia\"\n",
      "[1] \"Q4 = Harga Office sofware 2019 versi Home and Students adalah Rp.1,45 juta,dengan harga begitu,setarakah dengan kualitasnya\"\n"
     ]
    }
   ],
   "source": [
    "attach (Ttest_data)\n",
    "t.test (Q1, Q2, mu=0, alt=\"two.sided\", paired=T, conf.level=0.99)\n",
    "print('Q1 = Pada saat ini, microsoft office merupakan aplikasi yang paling banyak digunakan di seluruh dunia')\n",
    "print('Q4 = Harga Office sofware 2019 versi Home and Students adalah Rp.1,45 juta,dengan harga begitu,setarakah dengan kualitasnya')"
   ]
  },
  {
   "cell_type": "code",
   "execution_count": 13,
   "metadata": {},
   "outputs": [
    {
     "data": {
      "text/html": [
       "<ol class=list-inline>\n",
       "\t<li>'Q1'</li>\n",
       "\t<li>'Q5'</li>\n",
       "</ol>\n"
      ],
      "text/latex": [
       "\\begin{enumerate*}\n",
       "\\item 'Q1'\n",
       "\\item 'Q5'\n",
       "\\end{enumerate*}\n"
      ],
      "text/markdown": [
       "1. 'Q1'\n",
       "2. 'Q5'\n",
       "\n",
       "\n"
      ],
      "text/plain": [
       "[1] \"Q1\" \"Q5\""
      ]
     },
     "metadata": {},
     "output_type": "display_data"
    }
   ],
   "source": [
    "Ttest_data = read.csv (file.choose(),header=T)\n",
    "names(Ttest_data)"
   ]
  },
  {
   "cell_type": "code",
   "execution_count": 14,
   "metadata": {},
   "outputs": [
    {
     "name": "stderr",
     "output_type": "stream",
     "text": [
      "The following object is masked from Ttest_data (pos = 3):\n",
      "\n",
      "    Q1\n",
      "\n",
      "The following object is masked from Ttest_data (pos = 4):\n",
      "\n",
      "    Q1\n",
      "\n",
      "The following object is masked from Ttest_data (pos = 5):\n",
      "\n",
      "    Q1\n",
      "\n"
     ]
    },
    {
     "data": {
      "text/plain": [
       "\n",
       "\tPaired t-test\n",
       "\n",
       "data:  Q1 and Q2\n",
       "t = -22.211, df = 527, p-value < 2.2e-16\n",
       "alternative hypothesis: true difference in means is not equal to 0\n",
       "99 percent confidence interval:\n",
       " -1.539266 -1.218309\n",
       "sample estimates:\n",
       "mean of the differences \n",
       "              -1.378788 \n"
      ]
     },
     "metadata": {},
     "output_type": "display_data"
    },
    {
     "name": "stdout",
     "output_type": "stream",
     "text": [
      "[1] \"Q1 = Pada saat ini, microsoft office merupakan aplikasi yang paling banyak digunakan di seluruh dunia\"\n",
      "[1] \"Q5 = Seberapa meningkatnya kemampuan Microsoft Office anda jika dibandingkan waktu SMA dan sekarang\"\n"
     ]
    }
   ],
   "source": [
    "attach (Ttest_data)\n",
    "t.test (Q1, Q2, mu=0, alt=\"two.sided\", paired=T, conf.level=0.99)\n",
    "print('Q1 = Pada saat ini, microsoft office merupakan aplikasi yang paling banyak digunakan di seluruh dunia')\n",
    "print('Q5 = Seberapa meningkatnya kemampuan Microsoft Office anda jika dibandingkan waktu SMA dan sekarang')"
   ]
  },
  {
   "cell_type": "code",
   "execution_count": 15,
   "metadata": {},
   "outputs": [
    {
     "data": {
      "text/html": [
       "<ol class=list-inline>\n",
       "\t<li>'Q1'</li>\n",
       "\t<li>'Q6'</li>\n",
       "</ol>\n"
      ],
      "text/latex": [
       "\\begin{enumerate*}\n",
       "\\item 'Q1'\n",
       "\\item 'Q6'\n",
       "\\end{enumerate*}\n"
      ],
      "text/markdown": [
       "1. 'Q1'\n",
       "2. 'Q6'\n",
       "\n",
       "\n"
      ],
      "text/plain": [
       "[1] \"Q1\" \"Q6\""
      ]
     },
     "metadata": {},
     "output_type": "display_data"
    }
   ],
   "source": [
    "Ttest_data = read.csv (file.choose(),header=T)\n",
    "names(Ttest_data)"
   ]
  },
  {
   "cell_type": "code",
   "execution_count": 16,
   "metadata": {},
   "outputs": [
    {
     "name": "stderr",
     "output_type": "stream",
     "text": [
      "The following object is masked from Ttest_data (pos = 3):\n",
      "\n",
      "    Q1\n",
      "\n",
      "The following object is masked from Ttest_data (pos = 4):\n",
      "\n",
      "    Q1\n",
      "\n",
      "The following object is masked from Ttest_data (pos = 5):\n",
      "\n",
      "    Q1\n",
      "\n",
      "The following object is masked from Ttest_data (pos = 6):\n",
      "\n",
      "    Q1\n",
      "\n"
     ]
    },
    {
     "data": {
      "text/plain": [
       "\n",
       "\tPaired t-test\n",
       "\n",
       "data:  Q1 and Q2\n",
       "t = -22.211, df = 527, p-value < 2.2e-16\n",
       "alternative hypothesis: true difference in means is not equal to 0\n",
       "99 percent confidence interval:\n",
       " -1.539266 -1.218309\n",
       "sample estimates:\n",
       "mean of the differences \n",
       "              -1.378788 \n"
      ]
     },
     "metadata": {},
     "output_type": "display_data"
    },
    {
     "name": "stdout",
     "output_type": "stream",
     "text": [
      "[1] \"Q1 = Pada saat ini, microsoft office merupakan aplikasi yang paling banyak digunakan di seluruh dunia\"\n",
      "[1] \"Q6 = Seberapa meningkatnya pengetahuan anda tentang membuat laporan setelah menggunakan Microsoft word\"\n"
     ]
    }
   ],
   "source": [
    "attach (Ttest_data)\n",
    "t.test (Q1, Q2, mu=0, alt=\"two.sided\", paired=T, conf.level=0.99)\n",
    "print('Q1 = Pada saat ini, microsoft office merupakan aplikasi yang paling banyak digunakan di seluruh dunia')\n",
    "print('Q6 = Seberapa meningkatnya pengetahuan anda tentang membuat laporan setelah menggunakan Microsoft word')"
   ]
  },
  {
   "cell_type": "code",
   "execution_count": 17,
   "metadata": {},
   "outputs": [
    {
     "data": {
      "text/html": [
       "<ol class=list-inline>\n",
       "\t<li>'Q1'</li>\n",
       "\t<li>'Q7'</li>\n",
       "</ol>\n"
      ],
      "text/latex": [
       "\\begin{enumerate*}\n",
       "\\item 'Q1'\n",
       "\\item 'Q7'\n",
       "\\end{enumerate*}\n"
      ],
      "text/markdown": [
       "1. 'Q1'\n",
       "2. 'Q7'\n",
       "\n",
       "\n"
      ],
      "text/plain": [
       "[1] \"Q1\" \"Q7\""
      ]
     },
     "metadata": {},
     "output_type": "display_data"
    }
   ],
   "source": [
    "Ttest_data = read.csv (file.choose(),header=T)\n",
    "names(Ttest_data)"
   ]
  },
  {
   "cell_type": "code",
   "execution_count": 18,
   "metadata": {},
   "outputs": [
    {
     "name": "stderr",
     "output_type": "stream",
     "text": [
      "The following object is masked from Ttest_data (pos = 3):\n",
      "\n",
      "    Q1\n",
      "\n",
      "The following object is masked from Ttest_data (pos = 4):\n",
      "\n",
      "    Q1\n",
      "\n",
      "The following object is masked from Ttest_data (pos = 5):\n",
      "\n",
      "    Q1\n",
      "\n",
      "The following object is masked from Ttest_data (pos = 6):\n",
      "\n",
      "    Q1\n",
      "\n",
      "The following object is masked from Ttest_data (pos = 7):\n",
      "\n",
      "    Q1\n",
      "\n"
     ]
    },
    {
     "data": {
      "text/plain": [
       "\n",
       "\tPaired t-test\n",
       "\n",
       "data:  Q1 and Q2\n",
       "t = -22.211, df = 527, p-value < 2.2e-16\n",
       "alternative hypothesis: true difference in means is not equal to 0\n",
       "99 percent confidence interval:\n",
       " -1.539266 -1.218309\n",
       "sample estimates:\n",
       "mean of the differences \n",
       "              -1.378788 \n"
      ]
     },
     "metadata": {},
     "output_type": "display_data"
    },
    {
     "name": "stdout",
     "output_type": "stream",
     "text": [
      "[1] \"Q1 = Pada saat ini, microsoft office merupakan aplikasi yang paling banyak digunakan di seluruh dunia\"\n",
      "[1] \"Q7 = Seberapa efisienkah mengolah pembukuan dengan Microsoft Office dibandingkan dengan manual\"\n"
     ]
    }
   ],
   "source": [
    "attach (Ttest_data)\n",
    "t.test (Q1, Q2, mu=0, alt=\"two.sided\", paired=T, conf.level=0.99)\n",
    "print('Q1 = Pada saat ini, microsoft office merupakan aplikasi yang paling banyak digunakan di seluruh dunia')\n",
    "print('Q7 = Seberapa efisienkah mengolah pembukuan dengan Microsoft Office dibandingkan dengan manual')"
   ]
  },
  {
   "cell_type": "code",
   "execution_count": 19,
   "metadata": {},
   "outputs": [
    {
     "data": {
      "text/html": [
       "<ol class=list-inline>\n",
       "\t<li>'Q1'</li>\n",
       "\t<li>'Q8'</li>\n",
       "</ol>\n"
      ],
      "text/latex": [
       "\\begin{enumerate*}\n",
       "\\item 'Q1'\n",
       "\\item 'Q8'\n",
       "\\end{enumerate*}\n"
      ],
      "text/markdown": [
       "1. 'Q1'\n",
       "2. 'Q8'\n",
       "\n",
       "\n"
      ],
      "text/plain": [
       "[1] \"Q1\" \"Q8\""
      ]
     },
     "metadata": {},
     "output_type": "display_data"
    }
   ],
   "source": [
    "Ttest_data = read.csv (file.choose(),header=T)\n",
    "names(Ttest_data)"
   ]
  },
  {
   "cell_type": "code",
   "execution_count": 20,
   "metadata": {},
   "outputs": [
    {
     "name": "stderr",
     "output_type": "stream",
     "text": [
      "The following object is masked from Ttest_data (pos = 3):\n",
      "\n",
      "    Q1\n",
      "\n",
      "The following object is masked from Ttest_data (pos = 4):\n",
      "\n",
      "    Q1\n",
      "\n",
      "The following object is masked from Ttest_data (pos = 5):\n",
      "\n",
      "    Q1\n",
      "\n",
      "The following object is masked from Ttest_data (pos = 6):\n",
      "\n",
      "    Q1\n",
      "\n",
      "The following object is masked from Ttest_data (pos = 7):\n",
      "\n",
      "    Q1\n",
      "\n",
      "The following object is masked from Ttest_data (pos = 8):\n",
      "\n",
      "    Q1\n",
      "\n"
     ]
    },
    {
     "data": {
      "text/plain": [
       "\n",
       "\tPaired t-test\n",
       "\n",
       "data:  Q1 and Q2\n",
       "t = -22.211, df = 527, p-value < 2.2e-16\n",
       "alternative hypothesis: true difference in means is not equal to 0\n",
       "99 percent confidence interval:\n",
       " -1.539266 -1.218309\n",
       "sample estimates:\n",
       "mean of the differences \n",
       "              -1.378788 \n"
      ]
     },
     "metadata": {},
     "output_type": "display_data"
    },
    {
     "name": "stdout",
     "output_type": "stream",
     "text": [
      "[1] \"Q1 = Pada saat ini, microsoft office merupakan aplikasi yang paling banyak digunakan di seluruh dunia\"\n",
      "[1] \"Q8 = Seberapa banyak program office selain Microsoft office\"\n"
     ]
    }
   ],
   "source": [
    "attach (Ttest_data)\n",
    "t.test (Q1, Q2, mu=0, alt=\"two.sided\", paired=T, conf.level=0.99)\n",
    "print('Q1 = Pada saat ini, microsoft office merupakan aplikasi yang paling banyak digunakan di seluruh dunia')\n",
    "print('Q8 = Seberapa banyak program office selain Microsoft office')"
   ]
  },
  {
   "cell_type": "code",
   "execution_count": 21,
   "metadata": {},
   "outputs": [
    {
     "data": {
      "text/html": [
       "<ol class=list-inline>\n",
       "\t<li>'Q2'</li>\n",
       "\t<li>'Q3'</li>\n",
       "</ol>\n"
      ],
      "text/latex": [
       "\\begin{enumerate*}\n",
       "\\item 'Q2'\n",
       "\\item 'Q3'\n",
       "\\end{enumerate*}\n"
      ],
      "text/markdown": [
       "1. 'Q2'\n",
       "2. 'Q3'\n",
       "\n",
       "\n"
      ],
      "text/plain": [
       "[1] \"Q2\" \"Q3\""
      ]
     },
     "metadata": {},
     "output_type": "display_data"
    }
   ],
   "source": [
    "Ttest_data = read.csv (file.choose(),header=T)\n",
    "names(Ttest_data)"
   ]
  },
  {
   "cell_type": "code",
   "execution_count": 22,
   "metadata": {},
   "outputs": [
    {
     "name": "stderr",
     "output_type": "stream",
     "text": [
      "The following object is masked from Ttest_data (pos = 8):\n",
      "\n",
      "    Q3\n",
      "\n",
      "The following object is masked from Ttest_data (pos = 9):\n",
      "\n",
      "    Q2\n",
      "\n"
     ]
    },
    {
     "data": {
      "text/plain": [
       "\n",
       "\tPaired t-test\n",
       "\n",
       "data:  Q1 and Q2\n",
       "t = -22.211, df = 527, p-value < 2.2e-16\n",
       "alternative hypothesis: true difference in means is not equal to 0\n",
       "99 percent confidence interval:\n",
       " -1.539266 -1.218309\n",
       "sample estimates:\n",
       "mean of the differences \n",
       "              -1.378788 \n"
      ]
     },
     "metadata": {},
     "output_type": "display_data"
    },
    {
     "name": "stdout",
     "output_type": "stream",
     "text": [
      "[1] \"Q2 = Tahukah bahwa Microsoft Office pernah merilis Office online\"\n",
      "[1] \"Q3 = Microsoft Office merupakan yang paling berkualitas dibandingkan software office yang lainnya\"\n"
     ]
    }
   ],
   "source": [
    "attach (Ttest_data)\n",
    "t.test (Q1, Q2, mu=0, alt=\"two.sided\", paired=T, conf.level=0.99)\n",
    "print('Q2 = Tahukah bahwa Microsoft Office pernah merilis Office online')\n",
    "print('Q3 = Microsoft Office merupakan yang paling berkualitas dibandingkan software office yang lainnya')"
   ]
  },
  {
   "cell_type": "code",
   "execution_count": 23,
   "metadata": {},
   "outputs": [
    {
     "data": {
      "text/html": [
       "<ol class=list-inline>\n",
       "\t<li>'Q2'</li>\n",
       "\t<li>'Q4'</li>\n",
       "</ol>\n"
      ],
      "text/latex": [
       "\\begin{enumerate*}\n",
       "\\item 'Q2'\n",
       "\\item 'Q4'\n",
       "\\end{enumerate*}\n"
      ],
      "text/markdown": [
       "1. 'Q2'\n",
       "2. 'Q4'\n",
       "\n",
       "\n"
      ],
      "text/plain": [
       "[1] \"Q2\" \"Q4\""
      ]
     },
     "metadata": {},
     "output_type": "display_data"
    }
   ],
   "source": [
    "Ttest_data = read.csv (file.choose(),header=T)\n",
    "names(Ttest_data)"
   ]
  },
  {
   "cell_type": "code",
   "execution_count": 24,
   "metadata": {},
   "outputs": [
    {
     "name": "stderr",
     "output_type": "stream",
     "text": [
      "The following object is masked from Ttest_data (pos = 3):\n",
      "\n",
      "    Q2\n",
      "\n",
      "The following object is masked from Ttest_data (pos = 8):\n",
      "\n",
      "    Q4\n",
      "\n",
      "The following object is masked from Ttest_data (pos = 10):\n",
      "\n",
      "    Q2\n",
      "\n"
     ]
    },
    {
     "data": {
      "text/plain": [
       "\n",
       "\tPaired t-test\n",
       "\n",
       "data:  Q1 and Q2\n",
       "t = -22.211, df = 527, p-value < 2.2e-16\n",
       "alternative hypothesis: true difference in means is not equal to 0\n",
       "99 percent confidence interval:\n",
       " -1.539266 -1.218309\n",
       "sample estimates:\n",
       "mean of the differences \n",
       "              -1.378788 \n"
      ]
     },
     "metadata": {},
     "output_type": "display_data"
    },
    {
     "name": "stdout",
     "output_type": "stream",
     "text": [
      "[1] \"Q2 = Tahukah bahwa Microsoft Office pernah merilis Office online\"\n",
      "[1] \"Q4 = Harga Office sofware 2019 versi Home and Students adalah Rp.1,45 juta,dengan harga begitu,setarakah dengan kualitasnya\"\n"
     ]
    }
   ],
   "source": [
    "attach (Ttest_data)\n",
    "t.test (Q1, Q2, mu=0, alt=\"two.sided\", paired=T, conf.level=0.99)\n",
    "print('Q2 = Tahukah bahwa Microsoft Office pernah merilis Office online')\n",
    "print('Q4 = Harga Office sofware 2019 versi Home and Students adalah Rp.1,45 juta,dengan harga begitu,setarakah dengan kualitasnya')"
   ]
  },
  {
   "cell_type": "code",
   "execution_count": 25,
   "metadata": {},
   "outputs": [
    {
     "data": {
      "text/html": [
       "<ol class=list-inline>\n",
       "\t<li>'Q2'</li>\n",
       "\t<li>'Q5'</li>\n",
       "</ol>\n"
      ],
      "text/latex": [
       "\\begin{enumerate*}\n",
       "\\item 'Q2'\n",
       "\\item 'Q5'\n",
       "\\end{enumerate*}\n"
      ],
      "text/markdown": [
       "1. 'Q2'\n",
       "2. 'Q5'\n",
       "\n",
       "\n"
      ],
      "text/plain": [
       "[1] \"Q2\" \"Q5\""
      ]
     },
     "metadata": {},
     "output_type": "display_data"
    }
   ],
   "source": [
    "Ttest_data = read.csv (file.choose(),header=T)\n",
    "names(Ttest_data)"
   ]
  },
  {
   "cell_type": "code",
   "execution_count": 26,
   "metadata": {},
   "outputs": [
    {
     "name": "stderr",
     "output_type": "stream",
     "text": [
      "The following object is masked from Ttest_data (pos = 3):\n",
      "\n",
      "    Q2\n",
      "\n",
      "The following object is masked from Ttest_data (pos = 4):\n",
      "\n",
      "    Q2\n",
      "\n",
      "The following object is masked from Ttest_data (pos = 8):\n",
      "\n",
      "    Q5\n",
      "\n",
      "The following object is masked from Ttest_data (pos = 11):\n",
      "\n",
      "    Q2\n",
      "\n"
     ]
    },
    {
     "data": {
      "text/plain": [
       "\n",
       "\tPaired t-test\n",
       "\n",
       "data:  Q1 and Q2\n",
       "t = -22.211, df = 527, p-value < 2.2e-16\n",
       "alternative hypothesis: true difference in means is not equal to 0\n",
       "99 percent confidence interval:\n",
       " -1.539266 -1.218309\n",
       "sample estimates:\n",
       "mean of the differences \n",
       "              -1.378788 \n"
      ]
     },
     "metadata": {},
     "output_type": "display_data"
    },
    {
     "name": "stdout",
     "output_type": "stream",
     "text": [
      "[1] \"Q2 = Tahukah bahwa Microsoft Office pernah merilis Office online\"\n",
      "[1] \"Q5 = Seberapa meningkatnya kemampuan Microsoft Office anda jika dibandingkan waktu SMA dan sekarang\"\n"
     ]
    }
   ],
   "source": [
    "attach (Ttest_data)\n",
    "t.test (Q1, Q2, mu=0, alt=\"two.sided\", paired=T, conf.level=0.99)\n",
    "print('Q2 = Tahukah bahwa Microsoft Office pernah merilis Office online')\n",
    "print('Q5 = Seberapa meningkatnya kemampuan Microsoft Office anda jika dibandingkan waktu SMA dan sekarang')"
   ]
  },
  {
   "cell_type": "code",
   "execution_count": 27,
   "metadata": {},
   "outputs": [
    {
     "data": {
      "text/html": [
       "<ol class=list-inline>\n",
       "\t<li>'Q2'</li>\n",
       "\t<li>'Q6'</li>\n",
       "</ol>\n"
      ],
      "text/latex": [
       "\\begin{enumerate*}\n",
       "\\item 'Q2'\n",
       "\\item 'Q6'\n",
       "\\end{enumerate*}\n"
      ],
      "text/markdown": [
       "1. 'Q2'\n",
       "2. 'Q6'\n",
       "\n",
       "\n"
      ],
      "text/plain": [
       "[1] \"Q2\" \"Q6\""
      ]
     },
     "metadata": {},
     "output_type": "display_data"
    }
   ],
   "source": [
    "Ttest_data = read.csv (file.choose(),header=T)\n",
    "names(Ttest_data)"
   ]
  },
  {
   "cell_type": "code",
   "execution_count": 28,
   "metadata": {},
   "outputs": [
    {
     "name": "stderr",
     "output_type": "stream",
     "text": [
      "The following object is masked from Ttest_data (pos = 3):\n",
      "\n",
      "    Q2\n",
      "\n",
      "The following object is masked from Ttest_data (pos = 4):\n",
      "\n",
      "    Q2\n",
      "\n",
      "The following object is masked from Ttest_data (pos = 5):\n",
      "\n",
      "    Q2\n",
      "\n",
      "The following object is masked from Ttest_data (pos = 8):\n",
      "\n",
      "    Q6\n",
      "\n",
      "The following object is masked from Ttest_data (pos = 12):\n",
      "\n",
      "    Q2\n",
      "\n"
     ]
    },
    {
     "data": {
      "text/plain": [
       "\n",
       "\tPaired t-test\n",
       "\n",
       "data:  Q1 and Q2\n",
       "t = -22.211, df = 527, p-value < 2.2e-16\n",
       "alternative hypothesis: true difference in means is not equal to 0\n",
       "99 percent confidence interval:\n",
       " -1.539266 -1.218309\n",
       "sample estimates:\n",
       "mean of the differences \n",
       "              -1.378788 \n"
      ]
     },
     "metadata": {},
     "output_type": "display_data"
    },
    {
     "name": "stdout",
     "output_type": "stream",
     "text": [
      "[1] \"Q2 = Tahukah bahwa Microsoft Office pernah merilis Office online\"\n",
      "[1] \"Q6 = Seberapa meningkatnya pengetahuan anda tentang membuat laporan setelah menggunakan Microsoft word\"\n"
     ]
    }
   ],
   "source": [
    "attach (Ttest_data)\n",
    "t.test (Q1, Q2, mu=0, alt=\"two.sided\", paired=T, conf.level=0.99)\n",
    "print('Q2 = Tahukah bahwa Microsoft Office pernah merilis Office online')\n",
    "print('Q6 = Seberapa meningkatnya pengetahuan anda tentang membuat laporan setelah menggunakan Microsoft word')"
   ]
  },
  {
   "cell_type": "code",
   "execution_count": 29,
   "metadata": {},
   "outputs": [
    {
     "data": {
      "text/html": [
       "<ol class=list-inline>\n",
       "\t<li>'Q2'</li>\n",
       "\t<li>'Q7'</li>\n",
       "</ol>\n"
      ],
      "text/latex": [
       "\\begin{enumerate*}\n",
       "\\item 'Q2'\n",
       "\\item 'Q7'\n",
       "\\end{enumerate*}\n"
      ],
      "text/markdown": [
       "1. 'Q2'\n",
       "2. 'Q7'\n",
       "\n",
       "\n"
      ],
      "text/plain": [
       "[1] \"Q2\" \"Q7\""
      ]
     },
     "metadata": {},
     "output_type": "display_data"
    }
   ],
   "source": [
    "Ttest_data = read.csv (file.choose(),header=T)\n",
    "names(Ttest_data)"
   ]
  },
  {
   "cell_type": "code",
   "execution_count": 30,
   "metadata": {},
   "outputs": [
    {
     "name": "stderr",
     "output_type": "stream",
     "text": [
      "The following object is masked from Ttest_data (pos = 3):\n",
      "\n",
      "    Q2\n",
      "\n",
      "The following object is masked from Ttest_data (pos = 4):\n",
      "\n",
      "    Q2\n",
      "\n",
      "The following object is masked from Ttest_data (pos = 5):\n",
      "\n",
      "    Q2\n",
      "\n",
      "The following object is masked from Ttest_data (pos = 6):\n",
      "\n",
      "    Q2\n",
      "\n",
      "The following object is masked from Ttest_data (pos = 8):\n",
      "\n",
      "    Q7\n",
      "\n",
      "The following object is masked from Ttest_data (pos = 13):\n",
      "\n",
      "    Q2\n",
      "\n"
     ]
    },
    {
     "data": {
      "text/plain": [
       "\n",
       "\tPaired t-test\n",
       "\n",
       "data:  Q1 and Q2\n",
       "t = -22.211, df = 527, p-value < 2.2e-16\n",
       "alternative hypothesis: true difference in means is not equal to 0\n",
       "99 percent confidence interval:\n",
       " -1.539266 -1.218309\n",
       "sample estimates:\n",
       "mean of the differences \n",
       "              -1.378788 \n"
      ]
     },
     "metadata": {},
     "output_type": "display_data"
    },
    {
     "name": "stdout",
     "output_type": "stream",
     "text": [
      "[1] \"Q2 = Tahukah bahwa Microsoft Office pernah merilis Office online\"\n",
      "[1] \"Q7 = Seberapa efisienkah mengolah pembukuan dengan Microsoft Office dibandingkan dengan manual\"\n"
     ]
    }
   ],
   "source": [
    "attach (Ttest_data)\n",
    "t.test (Q1, Q2, mu=0, alt=\"two.sided\", paired=T, conf.level=0.99)\n",
    "print('Q2 = Tahukah bahwa Microsoft Office pernah merilis Office online')\n",
    "print('Q7 = Seberapa efisienkah mengolah pembukuan dengan Microsoft Office dibandingkan dengan manual')"
   ]
  },
  {
   "cell_type": "code",
   "execution_count": 32,
   "metadata": {},
   "outputs": [
    {
     "data": {
      "text/html": [
       "<ol class=list-inline>\n",
       "\t<li>'Q2'</li>\n",
       "\t<li>'Q8'</li>\n",
       "</ol>\n"
      ],
      "text/latex": [
       "\\begin{enumerate*}\n",
       "\\item 'Q2'\n",
       "\\item 'Q8'\n",
       "\\end{enumerate*}\n"
      ],
      "text/markdown": [
       "1. 'Q2'\n",
       "2. 'Q8'\n",
       "\n",
       "\n"
      ],
      "text/plain": [
       "[1] \"Q2\" \"Q8\""
      ]
     },
     "metadata": {},
     "output_type": "display_data"
    }
   ],
   "source": [
    "Ttest_data = read.csv (file.choose(),header=T)\n",
    "names(Ttest_data)"
   ]
  },
  {
   "cell_type": "code",
   "execution_count": 33,
   "metadata": {},
   "outputs": [
    {
     "name": "stderr",
     "output_type": "stream",
     "text": [
      "The following object is masked from Ttest_data (pos = 3):\n",
      "\n",
      "    Q2\n",
      "\n",
      "The following object is masked from Ttest_data (pos = 4):\n",
      "\n",
      "    Q2\n",
      "\n",
      "The following object is masked from Ttest_data (pos = 5):\n",
      "\n",
      "    Q2\n",
      "\n",
      "The following object is masked from Ttest_data (pos = 6):\n",
      "\n",
      "    Q2\n",
      "\n",
      "The following object is masked from Ttest_data (pos = 7):\n",
      "\n",
      "    Q2\n",
      "\n",
      "The following object is masked from Ttest_data (pos = 8):\n",
      "\n",
      "    Q8\n",
      "\n",
      "The following object is masked from Ttest_data (pos = 14):\n",
      "\n",
      "    Q2\n",
      "\n"
     ]
    },
    {
     "data": {
      "text/plain": [
       "\n",
       "\tPaired t-test\n",
       "\n",
       "data:  Q1 and Q2\n",
       "t = -22.211, df = 527, p-value < 2.2e-16\n",
       "alternative hypothesis: true difference in means is not equal to 0\n",
       "99 percent confidence interval:\n",
       " -1.539266 -1.218309\n",
       "sample estimates:\n",
       "mean of the differences \n",
       "              -1.378788 \n"
      ]
     },
     "metadata": {},
     "output_type": "display_data"
    },
    {
     "name": "stdout",
     "output_type": "stream",
     "text": [
      "[1] \"Q2 = Tahukah bahwa Microsoft Office pernah merilis Office online\"\n",
      "[1] \"Q8 = Seberapa banyak program office selain Microsoft office\"\n"
     ]
    }
   ],
   "source": [
    "attach (Ttest_data)\n",
    "t.test (Q1, Q2, mu=0, alt=\"two.sided\", paired=T, conf.level=0.99)\n",
    "print('Q2 = Tahukah bahwa Microsoft Office pernah merilis Office online')\n",
    "print('Q8 = Seberapa banyak program office selain Microsoft office')"
   ]
  },
  {
   "cell_type": "code",
   "execution_count": 34,
   "metadata": {},
   "outputs": [
    {
     "data": {
      "text/html": [
       "<ol class=list-inline>\n",
       "\t<li>'Q3'</li>\n",
       "\t<li>'Q4'</li>\n",
       "</ol>\n"
      ],
      "text/latex": [
       "\\begin{enumerate*}\n",
       "\\item 'Q3'\n",
       "\\item 'Q4'\n",
       "\\end{enumerate*}\n"
      ],
      "text/markdown": [
       "1. 'Q3'\n",
       "2. 'Q4'\n",
       "\n",
       "\n"
      ],
      "text/plain": [
       "[1] \"Q3\" \"Q4\""
      ]
     },
     "metadata": {},
     "output_type": "display_data"
    }
   ],
   "source": [
    "Ttest_data = read.csv (file.choose(),header=T)\n",
    "names(Ttest_data)"
   ]
  },
  {
   "cell_type": "code",
   "execution_count": 35,
   "metadata": {},
   "outputs": [
    {
     "name": "stderr",
     "output_type": "stream",
     "text": [
      "The following object is masked from Ttest_data (pos = 7):\n",
      "\n",
      "    Q4\n",
      "\n",
      "The following object is masked from Ttest_data (pos = 8):\n",
      "\n",
      "    Q3\n",
      "\n",
      "The following object is masked from Ttest_data (pos = 13):\n",
      "\n",
      "    Q4\n",
      "\n",
      "The following object is masked from Ttest_data (pos = 14):\n",
      "\n",
      "    Q3\n",
      "\n"
     ]
    },
    {
     "data": {
      "text/plain": [
       "\n",
       "\tPaired t-test\n",
       "\n",
       "data:  Q1 and Q2\n",
       "t = -22.211, df = 527, p-value < 2.2e-16\n",
       "alternative hypothesis: true difference in means is not equal to 0\n",
       "99 percent confidence interval:\n",
       " -1.539266 -1.218309\n",
       "sample estimates:\n",
       "mean of the differences \n",
       "              -1.378788 \n"
      ]
     },
     "metadata": {},
     "output_type": "display_data"
    },
    {
     "name": "stdout",
     "output_type": "stream",
     "text": [
      "[1] \"Q3 = Microsoft Office merupakan yang paling berkualitas dibandingkan software office yang lainnya\"\n",
      "[1] \"Q4 = Harga Office sofware 2019 versi Home and Students adalah Rp.1,45 juta,dengan harga begitu,setarakah dengan kualitasnya\"\n"
     ]
    }
   ],
   "source": [
    "attach (Ttest_data)\n",
    "t.test (Q1, Q2, mu=0, alt=\"two.sided\", paired=T, conf.level=0.99)\n",
    "print('Q3 = Microsoft Office merupakan yang paling berkualitas dibandingkan software office yang lainnya')\n",
    "print('Q4 = Harga Office sofware 2019 versi Home and Students adalah Rp.1,45 juta,dengan harga begitu,setarakah dengan kualitasnya')"
   ]
  },
  {
   "cell_type": "code",
   "execution_count": 36,
   "metadata": {},
   "outputs": [
    {
     "data": {
      "text/html": [
       "<ol class=list-inline>\n",
       "\t<li>'Q3'</li>\n",
       "\t<li>'Q5'</li>\n",
       "</ol>\n"
      ],
      "text/latex": [
       "\\begin{enumerate*}\n",
       "\\item 'Q3'\n",
       "\\item 'Q5'\n",
       "\\end{enumerate*}\n"
      ],
      "text/markdown": [
       "1. 'Q3'\n",
       "2. 'Q5'\n",
       "\n",
       "\n"
      ],
      "text/plain": [
       "[1] \"Q3\" \"Q5\""
      ]
     },
     "metadata": {},
     "output_type": "display_data"
    }
   ],
   "source": [
    "Ttest_data = read.csv (file.choose(),header=T)\n",
    "names(Ttest_data)"
   ]
  },
  {
   "cell_type": "code",
   "execution_count": 37,
   "metadata": {},
   "outputs": [
    {
     "name": "stderr",
     "output_type": "stream",
     "text": [
      "The following object is masked from Ttest_data (pos = 3):\n",
      "\n",
      "    Q3\n",
      "\n",
      "The following object is masked from Ttest_data (pos = 7):\n",
      "\n",
      "    Q5\n",
      "\n",
      "The following object is masked from Ttest_data (pos = 9):\n",
      "\n",
      "    Q3\n",
      "\n",
      "The following object is masked from Ttest_data (pos = 13):\n",
      "\n",
      "    Q5\n",
      "\n",
      "The following object is masked from Ttest_data (pos = 15):\n",
      "\n",
      "    Q3\n",
      "\n"
     ]
    },
    {
     "data": {
      "text/plain": [
       "\n",
       "\tPaired t-test\n",
       "\n",
       "data:  Q1 and Q2\n",
       "t = -22.211, df = 527, p-value < 2.2e-16\n",
       "alternative hypothesis: true difference in means is not equal to 0\n",
       "99 percent confidence interval:\n",
       " -1.539266 -1.218309\n",
       "sample estimates:\n",
       "mean of the differences \n",
       "              -1.378788 \n"
      ]
     },
     "metadata": {},
     "output_type": "display_data"
    },
    {
     "name": "stdout",
     "output_type": "stream",
     "text": [
      "[1] \"Q3 = Microsoft Office merupakan yang paling berkualitas dibandingkan software office yang lainnya\"\n",
      "[1] \"Q5 = Seberapa meningkatnya kemampuan Microsoft Office anda jika dibandingkan waktu SMA dan sekarang\"\n"
     ]
    }
   ],
   "source": [
    "attach (Ttest_data)\n",
    "t.test (Q1, Q2, mu=0, alt=\"two.sided\", paired=T, conf.level=0.99)\n",
    "print('Q3 = Microsoft Office merupakan yang paling berkualitas dibandingkan software office yang lainnya')\n",
    "print('Q5 = Seberapa meningkatnya kemampuan Microsoft Office anda jika dibandingkan waktu SMA dan sekarang')"
   ]
  },
  {
   "cell_type": "code",
   "execution_count": 38,
   "metadata": {},
   "outputs": [
    {
     "data": {
      "text/html": [
       "<ol class=list-inline>\n",
       "\t<li>'Q3'</li>\n",
       "\t<li>'Q6'</li>\n",
       "</ol>\n"
      ],
      "text/latex": [
       "\\begin{enumerate*}\n",
       "\\item 'Q3'\n",
       "\\item 'Q6'\n",
       "\\end{enumerate*}\n"
      ],
      "text/markdown": [
       "1. 'Q3'\n",
       "2. 'Q6'\n",
       "\n",
       "\n"
      ],
      "text/plain": [
       "[1] \"Q3\" \"Q6\""
      ]
     },
     "metadata": {},
     "output_type": "display_data"
    }
   ],
   "source": [
    "Ttest_data = read.csv (file.choose(),header=T)\n",
    "names(Ttest_data)"
   ]
  },
  {
   "cell_type": "code",
   "execution_count": 39,
   "metadata": {},
   "outputs": [
    {
     "name": "stderr",
     "output_type": "stream",
     "text": [
      "The following object is masked from Ttest_data (pos = 3):\n",
      "\n",
      "    Q3\n",
      "\n",
      "The following object is masked from Ttest_data (pos = 4):\n",
      "\n",
      "    Q3\n",
      "\n",
      "The following object is masked from Ttest_data (pos = 7):\n",
      "\n",
      "    Q6\n",
      "\n",
      "The following object is masked from Ttest_data (pos = 10):\n",
      "\n",
      "    Q3\n",
      "\n",
      "The following object is masked from Ttest_data (pos = 13):\n",
      "\n",
      "    Q6\n",
      "\n",
      "The following object is masked from Ttest_data (pos = 16):\n",
      "\n",
      "    Q3\n",
      "\n"
     ]
    },
    {
     "data": {
      "text/plain": [
       "\n",
       "\tPaired t-test\n",
       "\n",
       "data:  Q1 and Q2\n",
       "t = -22.211, df = 527, p-value < 2.2e-16\n",
       "alternative hypothesis: true difference in means is not equal to 0\n",
       "99 percent confidence interval:\n",
       " -1.539266 -1.218309\n",
       "sample estimates:\n",
       "mean of the differences \n",
       "              -1.378788 \n"
      ]
     },
     "metadata": {},
     "output_type": "display_data"
    },
    {
     "name": "stdout",
     "output_type": "stream",
     "text": [
      "[1] \"Q3 = Microsoft Office merupakan yang paling berkualitas dibandingkan software office yang lainnya\"\n",
      "[1] \"Q6 = Seberapa meningkatnya pengetahuan anda tentang membuat laporan setelah menggunakan Microsoft word\"\n"
     ]
    }
   ],
   "source": [
    "attach (Ttest_data)\n",
    "t.test (Q1, Q2, mu=0, alt=\"two.sided\", paired=T, conf.level=0.99)\n",
    "print('Q3 = Microsoft Office merupakan yang paling berkualitas dibandingkan software office yang lainnya')\n",
    "print('Q6 = Seberapa meningkatnya pengetahuan anda tentang membuat laporan setelah menggunakan Microsoft word')"
   ]
  },
  {
   "cell_type": "code",
   "execution_count": 45,
   "metadata": {},
   "outputs": [
    {
     "data": {
      "text/html": [
       "<ol class=list-inline>\n",
       "\t<li>'Q3'</li>\n",
       "\t<li>'Q7'</li>\n",
       "</ol>\n"
      ],
      "text/latex": [
       "\\begin{enumerate*}\n",
       "\\item 'Q3'\n",
       "\\item 'Q7'\n",
       "\\end{enumerate*}\n"
      ],
      "text/markdown": [
       "1. 'Q3'\n",
       "2. 'Q7'\n",
       "\n",
       "\n"
      ],
      "text/plain": [
       "[1] \"Q3\" \"Q7\""
      ]
     },
     "metadata": {},
     "output_type": "display_data"
    }
   ],
   "source": [
    "Ttest_data = read.csv (file.choose(),header=T)\n",
    "names(Ttest_data)"
   ]
  },
  {
   "cell_type": "code",
   "execution_count": 41,
   "metadata": {},
   "outputs": [
    {
     "name": "stderr",
     "output_type": "stream",
     "text": [
      "The following object is masked from Ttest_data (pos = 3):\n",
      "\n",
      "    Q3\n",
      "\n",
      "The following object is masked from Ttest_data (pos = 4):\n",
      "\n",
      "    Q3\n",
      "\n",
      "The following object is masked from Ttest_data (pos = 5):\n",
      "\n",
      "    Q3\n",
      "\n",
      "The following object is masked from Ttest_data (pos = 7):\n",
      "\n",
      "    Q7\n",
      "\n",
      "The following object is masked from Ttest_data (pos = 11):\n",
      "\n",
      "    Q3\n",
      "\n",
      "The following object is masked from Ttest_data (pos = 13):\n",
      "\n",
      "    Q7\n",
      "\n",
      "The following object is masked from Ttest_data (pos = 17):\n",
      "\n",
      "    Q3\n",
      "\n"
     ]
    },
    {
     "data": {
      "text/plain": [
       "\n",
       "\tPaired t-test\n",
       "\n",
       "data:  Q1 and Q2\n",
       "t = -22.211, df = 527, p-value < 2.2e-16\n",
       "alternative hypothesis: true difference in means is not equal to 0\n",
       "99 percent confidence interval:\n",
       " -1.539266 -1.218309\n",
       "sample estimates:\n",
       "mean of the differences \n",
       "              -1.378788 \n"
      ]
     },
     "metadata": {},
     "output_type": "display_data"
    },
    {
     "name": "stdout",
     "output_type": "stream",
     "text": [
      "[1] \"Q3 = Microsoft Office merupakan yang paling berkualitas dibandingkan software office yang lainnya\"\n",
      "[1] \"Q7 = Seberapa efisienkah mengolah pembukuan dengan Microsoft Office dibandingkan dengan manual\"\n"
     ]
    }
   ],
   "source": [
    "attach (Ttest_data)\n",
    "t.test (Q1, Q2, mu=0, alt=\"two.sided\", paired=T, conf.level=0.99)\n",
    "print('Q3 = Microsoft Office merupakan yang paling berkualitas dibandingkan software office yang lainnya')\n",
    "print('Q7 = Seberapa efisienkah mengolah pembukuan dengan Microsoft Office dibandingkan dengan manual')"
   ]
  },
  {
   "cell_type": "code",
   "execution_count": 46,
   "metadata": {},
   "outputs": [
    {
     "data": {
      "text/html": [
       "<ol class=list-inline>\n",
       "\t<li>'Q3'</li>\n",
       "\t<li>'Q8'</li>\n",
       "</ol>\n"
      ],
      "text/latex": [
       "\\begin{enumerate*}\n",
       "\\item 'Q3'\n",
       "\\item 'Q8'\n",
       "\\end{enumerate*}\n"
      ],
      "text/markdown": [
       "1. 'Q3'\n",
       "2. 'Q8'\n",
       "\n",
       "\n"
      ],
      "text/plain": [
       "[1] \"Q3\" \"Q8\""
      ]
     },
     "metadata": {},
     "output_type": "display_data"
    }
   ],
   "source": [
    "Ttest_data = read.csv (file.choose(),header=T)\n",
    "names(Ttest_data)"
   ]
  },
  {
   "cell_type": "code",
   "execution_count": 47,
   "metadata": {},
   "outputs": [
    {
     "name": "stderr",
     "output_type": "stream",
     "text": [
      "The following object is masked from Ttest_data (pos = 3):\n",
      "\n",
      "    Q3\n",
      "\n",
      "The following object is masked from Ttest_data (pos = 4):\n",
      "\n",
      "    Q3\n",
      "\n",
      "The following object is masked from Ttest_data (pos = 5):\n",
      "\n",
      "    Q3\n",
      "\n",
      "The following object is masked from Ttest_data (pos = 6):\n",
      "\n",
      "    Q3\n",
      "\n",
      "The following object is masked from Ttest_data (pos = 7):\n",
      "\n",
      "    Q8\n",
      "\n",
      "The following object is masked from Ttest_data (pos = 12):\n",
      "\n",
      "    Q3\n",
      "\n",
      "The following object is masked from Ttest_data (pos = 13):\n",
      "\n",
      "    Q8\n",
      "\n",
      "The following object is masked from Ttest_data (pos = 18):\n",
      "\n",
      "    Q3\n",
      "\n"
     ]
    },
    {
     "data": {
      "text/plain": [
       "\n",
       "\tPaired t-test\n",
       "\n",
       "data:  Q1 and Q2\n",
       "t = -22.211, df = 527, p-value < 2.2e-16\n",
       "alternative hypothesis: true difference in means is not equal to 0\n",
       "99 percent confidence interval:\n",
       " -1.539266 -1.218309\n",
       "sample estimates:\n",
       "mean of the differences \n",
       "              -1.378788 \n"
      ]
     },
     "metadata": {},
     "output_type": "display_data"
    },
    {
     "name": "stdout",
     "output_type": "stream",
     "text": [
      "[1] \"Q3 = Microsoft Office merupakan yang paling berkualitas dibandingkan software office yang lainnya\"\n",
      "[1] \"Q8 = Seberapa banyak program office selain Microsoft office\"\n"
     ]
    }
   ],
   "source": [
    "attach (Ttest_data)\n",
    "t.test (Q1, Q2, mu=0, alt=\"two.sided\", paired=T, conf.level=0.99)\n",
    "print('Q3 = Microsoft Office merupakan yang paling berkualitas dibandingkan software office yang lainnya')\n",
    "print('Q8 = Seberapa banyak program office selain Microsoft office')"
   ]
  },
  {
   "cell_type": "code",
   "execution_count": 48,
   "metadata": {},
   "outputs": [
    {
     "data": {
      "text/html": [
       "<ol class=list-inline>\n",
       "\t<li>'Q4'</li>\n",
       "\t<li>'Q5'</li>\n",
       "</ol>\n"
      ],
      "text/latex": [
       "\\begin{enumerate*}\n",
       "\\item 'Q4'\n",
       "\\item 'Q5'\n",
       "\\end{enumerate*}\n"
      ],
      "text/markdown": [
       "1. 'Q4'\n",
       "2. 'Q5'\n",
       "\n",
       "\n"
      ],
      "text/plain": [
       "[1] \"Q4\" \"Q5\""
      ]
     },
     "metadata": {},
     "output_type": "display_data"
    }
   ],
   "source": [
    "Ttest_data = read.csv (file.choose(),header=T)\n",
    "names(Ttest_data)"
   ]
  },
  {
   "cell_type": "code",
   "execution_count": 49,
   "metadata": {},
   "outputs": [
    {
     "name": "stderr",
     "output_type": "stream",
     "text": [
      "The following object is masked from Ttest_data (pos = 6):\n",
      "\n",
      "    Q5\n",
      "\n",
      "The following object is masked from Ttest_data (pos = 7):\n",
      "\n",
      "    Q4\n",
      "\n",
      "The following object is masked from Ttest_data (pos = 11):\n",
      "\n",
      "    Q5\n",
      "\n",
      "The following object is masked from Ttest_data (pos = 12):\n",
      "\n",
      "    Q4\n",
      "\n",
      "The following object is masked from Ttest_data (pos = 17):\n",
      "\n",
      "    Q5\n",
      "\n",
      "The following object is masked from Ttest_data (pos = 18):\n",
      "\n",
      "    Q4\n",
      "\n"
     ]
    },
    {
     "data": {
      "text/plain": [
       "\n",
       "\tPaired t-test\n",
       "\n",
       "data:  Q1 and Q2\n",
       "t = -22.211, df = 527, p-value < 2.2e-16\n",
       "alternative hypothesis: true difference in means is not equal to 0\n",
       "99 percent confidence interval:\n",
       " -1.539266 -1.218309\n",
       "sample estimates:\n",
       "mean of the differences \n",
       "              -1.378788 \n"
      ]
     },
     "metadata": {},
     "output_type": "display_data"
    },
    {
     "name": "stdout",
     "output_type": "stream",
     "text": [
      "[1] \"Q4 = Harga Office sofware 2019 versi Home and Students adalah Rp.1,45 juta,dengan harga begitu,setarakah dengan kualitasnya\"\n",
      "[1] \"Q5 = Seberapa meningkatnya kemampuan Microsoft Office anda jika dibandingkan waktu SMA dan sekarang\"\n"
     ]
    }
   ],
   "source": [
    "attach (Ttest_data)\n",
    "t.test (Q1, Q2, mu=0, alt=\"two.sided\", paired=T, conf.level=0.99)\n",
    "print('Q4 = Harga Office sofware 2019 versi Home and Students adalah Rp.1,45 juta,dengan harga begitu,setarakah dengan kualitasnya')\n",
    "print('Q5 = Seberapa meningkatnya kemampuan Microsoft Office anda jika dibandingkan waktu SMA dan sekarang')"
   ]
  },
  {
   "cell_type": "code",
   "execution_count": 50,
   "metadata": {},
   "outputs": [
    {
     "data": {
      "text/html": [
       "<ol class=list-inline>\n",
       "\t<li>'Q4'</li>\n",
       "\t<li>'Q6'</li>\n",
       "</ol>\n"
      ],
      "text/latex": [
       "\\begin{enumerate*}\n",
       "\\item 'Q4'\n",
       "\\item 'Q6'\n",
       "\\end{enumerate*}\n"
      ],
      "text/markdown": [
       "1. 'Q4'\n",
       "2. 'Q6'\n",
       "\n",
       "\n"
      ],
      "text/plain": [
       "[1] \"Q4\" \"Q6\""
      ]
     },
     "metadata": {},
     "output_type": "display_data"
    }
   ],
   "source": [
    "Ttest_data = read.csv (file.choose(),header=T)\n",
    "names(Ttest_data)"
   ]
  },
  {
   "cell_type": "code",
   "execution_count": 51,
   "metadata": {},
   "outputs": [
    {
     "name": "stderr",
     "output_type": "stream",
     "text": [
      "The following object is masked from Ttest_data (pos = 3):\n",
      "\n",
      "    Q4\n",
      "\n",
      "The following object is masked from Ttest_data (pos = 6):\n",
      "\n",
      "    Q6\n",
      "\n",
      "The following object is masked from Ttest_data (pos = 8):\n",
      "\n",
      "    Q4\n",
      "\n",
      "The following object is masked from Ttest_data (pos = 11):\n",
      "\n",
      "    Q6\n",
      "\n",
      "The following object is masked from Ttest_data (pos = 13):\n",
      "\n",
      "    Q4\n",
      "\n",
      "The following object is masked from Ttest_data (pos = 17):\n",
      "\n",
      "    Q6\n",
      "\n",
      "The following object is masked from Ttest_data (pos = 19):\n",
      "\n",
      "    Q4\n",
      "\n"
     ]
    },
    {
     "data": {
      "text/plain": [
       "\n",
       "\tPaired t-test\n",
       "\n",
       "data:  Q1 and Q2\n",
       "t = -22.211, df = 527, p-value < 2.2e-16\n",
       "alternative hypothesis: true difference in means is not equal to 0\n",
       "99 percent confidence interval:\n",
       " -1.539266 -1.218309\n",
       "sample estimates:\n",
       "mean of the differences \n",
       "              -1.378788 \n"
      ]
     },
     "metadata": {},
     "output_type": "display_data"
    },
    {
     "name": "stdout",
     "output_type": "stream",
     "text": [
      "[1] \"Q4 = Harga Office sofware 2019 versi Home and Students adalah Rp.1,45 juta,dengan harga begitu,setarakah dengan kualitasnya\"\n",
      "[1] \"Q6 = Seberapa meningkatnya pengetahuan anda tentang membuat laporan setelah menggunakan Microsoft word\"\n"
     ]
    }
   ],
   "source": [
    "attach (Ttest_data)\n",
    "t.test (Q1, Q2, mu=0, alt=\"two.sided\", paired=T, conf.level=0.99)\n",
    "print('Q4 = Harga Office sofware 2019 versi Home and Students adalah Rp.1,45 juta,dengan harga begitu,setarakah dengan kualitasnya')\n",
    "print('Q6 = Seberapa meningkatnya pengetahuan anda tentang membuat laporan setelah menggunakan Microsoft word')"
   ]
  },
  {
   "cell_type": "code",
   "execution_count": 52,
   "metadata": {},
   "outputs": [
    {
     "data": {
      "text/html": [
       "<ol class=list-inline>\n",
       "\t<li>'Q4'</li>\n",
       "\t<li>'Q7'</li>\n",
       "</ol>\n"
      ],
      "text/latex": [
       "\\begin{enumerate*}\n",
       "\\item 'Q4'\n",
       "\\item 'Q7'\n",
       "\\end{enumerate*}\n"
      ],
      "text/markdown": [
       "1. 'Q4'\n",
       "2. 'Q7'\n",
       "\n",
       "\n"
      ],
      "text/plain": [
       "[1] \"Q4\" \"Q7\""
      ]
     },
     "metadata": {},
     "output_type": "display_data"
    }
   ],
   "source": [
    "Ttest_data = read.csv (file.choose(),header=T)\n",
    "names(Ttest_data)"
   ]
  },
  {
   "cell_type": "code",
   "execution_count": 53,
   "metadata": {},
   "outputs": [
    {
     "name": "stderr",
     "output_type": "stream",
     "text": [
      "The following object is masked from Ttest_data (pos = 3):\n",
      "\n",
      "    Q4\n",
      "\n",
      "The following object is masked from Ttest_data (pos = 4):\n",
      "\n",
      "    Q4\n",
      "\n",
      "The following object is masked from Ttest_data (pos = 6):\n",
      "\n",
      "    Q7\n",
      "\n",
      "The following object is masked from Ttest_data (pos = 9):\n",
      "\n",
      "    Q4\n",
      "\n",
      "The following object is masked from Ttest_data (pos = 11):\n",
      "\n",
      "    Q7\n",
      "\n",
      "The following object is masked from Ttest_data (pos = 14):\n",
      "\n",
      "    Q4\n",
      "\n",
      "The following object is masked from Ttest_data (pos = 17):\n",
      "\n",
      "    Q7\n",
      "\n",
      "The following object is masked from Ttest_data (pos = 20):\n",
      "\n",
      "    Q4\n",
      "\n"
     ]
    },
    {
     "data": {
      "text/plain": [
       "\n",
       "\tPaired t-test\n",
       "\n",
       "data:  Q1 and Q2\n",
       "t = -22.211, df = 527, p-value < 2.2e-16\n",
       "alternative hypothesis: true difference in means is not equal to 0\n",
       "99 percent confidence interval:\n",
       " -1.539266 -1.218309\n",
       "sample estimates:\n",
       "mean of the differences \n",
       "              -1.378788 \n"
      ]
     },
     "metadata": {},
     "output_type": "display_data"
    },
    {
     "name": "stdout",
     "output_type": "stream",
     "text": [
      "[1] \"Q4 = Harga Office sofware 2019 versi Home and Students adalah Rp.1,45 juta,dengan harga begitu,setarakah dengan kualitasnya\"\n",
      "[1] \"Q7 = Seberapa efisienkah mengolah pembukuan dengan Microsoft Office dibandingkan dengan manual\"\n"
     ]
    }
   ],
   "source": [
    "attach (Ttest_data)\n",
    "t.test (Q1, Q2, mu=0, alt=\"two.sided\", paired=T, conf.level=0.99)\n",
    "print('Q4 = Harga Office sofware 2019 versi Home and Students adalah Rp.1,45 juta,dengan harga begitu,setarakah dengan kualitasnya')\n",
    "print('Q7 = Seberapa efisienkah mengolah pembukuan dengan Microsoft Office dibandingkan dengan manual')"
   ]
  },
  {
   "cell_type": "code",
   "execution_count": 54,
   "metadata": {},
   "outputs": [
    {
     "data": {
      "text/html": [
       "<ol class=list-inline>\n",
       "\t<li>'Q4'</li>\n",
       "\t<li>'Q8'</li>\n",
       "</ol>\n"
      ],
      "text/latex": [
       "\\begin{enumerate*}\n",
       "\\item 'Q4'\n",
       "\\item 'Q8'\n",
       "\\end{enumerate*}\n"
      ],
      "text/markdown": [
       "1. 'Q4'\n",
       "2. 'Q8'\n",
       "\n",
       "\n"
      ],
      "text/plain": [
       "[1] \"Q4\" \"Q8\""
      ]
     },
     "metadata": {},
     "output_type": "display_data"
    }
   ],
   "source": [
    "Ttest_data = read.csv (file.choose(),header=T)\n",
    "names(Ttest_data)"
   ]
  },
  {
   "cell_type": "code",
   "execution_count": 55,
   "metadata": {},
   "outputs": [
    {
     "name": "stderr",
     "output_type": "stream",
     "text": [
      "The following object is masked from Ttest_data (pos = 3):\n",
      "\n",
      "    Q4\n",
      "\n",
      "The following object is masked from Ttest_data (pos = 4):\n",
      "\n",
      "    Q4\n",
      "\n",
      "The following object is masked from Ttest_data (pos = 5):\n",
      "\n",
      "    Q4\n",
      "\n",
      "The following object is masked from Ttest_data (pos = 6):\n",
      "\n",
      "    Q8\n",
      "\n",
      "The following object is masked from Ttest_data (pos = 10):\n",
      "\n",
      "    Q4\n",
      "\n",
      "The following object is masked from Ttest_data (pos = 11):\n",
      "\n",
      "    Q8\n",
      "\n",
      "The following object is masked from Ttest_data (pos = 15):\n",
      "\n",
      "    Q4\n",
      "\n",
      "The following object is masked from Ttest_data (pos = 17):\n",
      "\n",
      "    Q8\n",
      "\n",
      "The following object is masked from Ttest_data (pos = 21):\n",
      "\n",
      "    Q4\n",
      "\n"
     ]
    },
    {
     "data": {
      "text/plain": [
       "\n",
       "\tPaired t-test\n",
       "\n",
       "data:  Q1 and Q2\n",
       "t = -22.211, df = 527, p-value < 2.2e-16\n",
       "alternative hypothesis: true difference in means is not equal to 0\n",
       "99 percent confidence interval:\n",
       " -1.539266 -1.218309\n",
       "sample estimates:\n",
       "mean of the differences \n",
       "              -1.378788 \n"
      ]
     },
     "metadata": {},
     "output_type": "display_data"
    },
    {
     "name": "stdout",
     "output_type": "stream",
     "text": [
      "[1] \"Q4 = Harga Office sofware 2019 versi Home and Students adalah Rp.1,45 juta,dengan harga begitu,setarakah dengan kualitasnya\"\n",
      "[1] \"Q8 = Seberapa banyak program office selain Microsoft office\"\n"
     ]
    }
   ],
   "source": [
    "attach (Ttest_data)\n",
    "t.test (Q1, Q2, mu=0, alt=\"two.sided\", paired=T, conf.level=0.99)\n",
    "print('Q4 = Harga Office sofware 2019 versi Home and Students adalah Rp.1,45 juta,dengan harga begitu,setarakah dengan kualitasnya')\n",
    "print('Q8 = Seberapa banyak program office selain Microsoft office')"
   ]
  },
  {
   "cell_type": "code",
   "execution_count": 56,
   "metadata": {},
   "outputs": [
    {
     "data": {
      "text/html": [
       "<ol class=list-inline>\n",
       "\t<li>'Q5'</li>\n",
       "\t<li>'Q6'</li>\n",
       "</ol>\n"
      ],
      "text/latex": [
       "\\begin{enumerate*}\n",
       "\\item 'Q5'\n",
       "\\item 'Q6'\n",
       "\\end{enumerate*}\n"
      ],
      "text/markdown": [
       "1. 'Q5'\n",
       "2. 'Q6'\n",
       "\n",
       "\n"
      ],
      "text/plain": [
       "[1] \"Q5\" \"Q6\""
      ]
     },
     "metadata": {},
     "output_type": "display_data"
    }
   ],
   "source": [
    "Ttest_data = read.csv (file.choose(),header=T)\n",
    "names(Ttest_data)"
   ]
  },
  {
   "cell_type": "code",
   "execution_count": 57,
   "metadata": {},
   "outputs": [
    {
     "name": "stderr",
     "output_type": "stream",
     "text": [
      "The following object is masked from Ttest_data (pos = 5):\n",
      "\n",
      "    Q6\n",
      "\n",
      "The following object is masked from Ttest_data (pos = 6):\n",
      "\n",
      "    Q5\n",
      "\n",
      "The following object is masked from Ttest_data (pos = 9):\n",
      "\n",
      "    Q6\n",
      "\n",
      "The following object is masked from Ttest_data (pos = 10):\n",
      "\n",
      "    Q5\n",
      "\n",
      "The following object is masked from Ttest_data (pos = 14):\n",
      "\n",
      "    Q6\n",
      "\n",
      "The following object is masked from Ttest_data (pos = 15):\n",
      "\n",
      "    Q5\n",
      "\n",
      "The following object is masked from Ttest_data (pos = 20):\n",
      "\n",
      "    Q6\n",
      "\n",
      "The following object is masked from Ttest_data (pos = 21):\n",
      "\n",
      "    Q5\n",
      "\n"
     ]
    },
    {
     "data": {
      "text/plain": [
       "\n",
       "\tPaired t-test\n",
       "\n",
       "data:  Q1 and Q2\n",
       "t = -22.211, df = 527, p-value < 2.2e-16\n",
       "alternative hypothesis: true difference in means is not equal to 0\n",
       "99 percent confidence interval:\n",
       " -1.539266 -1.218309\n",
       "sample estimates:\n",
       "mean of the differences \n",
       "              -1.378788 \n"
      ]
     },
     "metadata": {},
     "output_type": "display_data"
    },
    {
     "name": "stdout",
     "output_type": "stream",
     "text": [
      "[1] \"Q5 = Seberapa meningkatnya kemampuan Microsoft Office anda jika dibandingkan waktu SMA dan sekarang\"\n",
      "[1] \"Q6 = Seberapa meningkatnya pengetahuan anda tentang membuat laporan setelah menggunakan Microsoft word\"\n"
     ]
    }
   ],
   "source": [
    "attach (Ttest_data)\n",
    "t.test (Q1, Q2, mu=0, alt=\"two.sided\", paired=T, conf.level=0.99)\n",
    "print('Q5 = Seberapa meningkatnya kemampuan Microsoft Office anda jika dibandingkan waktu SMA dan sekarang')\n",
    "print('Q6 = Seberapa meningkatnya pengetahuan anda tentang membuat laporan setelah menggunakan Microsoft word')"
   ]
  },
  {
   "cell_type": "code",
   "execution_count": 58,
   "metadata": {},
   "outputs": [
    {
     "data": {
      "text/html": [
       "<ol class=list-inline>\n",
       "\t<li>'Q5'</li>\n",
       "\t<li>'Q7'</li>\n",
       "</ol>\n"
      ],
      "text/latex": [
       "\\begin{enumerate*}\n",
       "\\item 'Q5'\n",
       "\\item 'Q7'\n",
       "\\end{enumerate*}\n"
      ],
      "text/markdown": [
       "1. 'Q5'\n",
       "2. 'Q7'\n",
       "\n",
       "\n"
      ],
      "text/plain": [
       "[1] \"Q5\" \"Q7\""
      ]
     },
     "metadata": {},
     "output_type": "display_data"
    }
   ],
   "source": [
    "Ttest_data = read.csv (file.choose(),header=T)\n",
    "names(Ttest_data)"
   ]
  },
  {
   "cell_type": "code",
   "execution_count": 59,
   "metadata": {},
   "outputs": [
    {
     "name": "stderr",
     "output_type": "stream",
     "text": [
      "The following object is masked from Ttest_data (pos = 3):\n",
      "\n",
      "    Q5\n",
      "\n",
      "The following object is masked from Ttest_data (pos = 5):\n",
      "\n",
      "    Q7\n",
      "\n",
      "The following object is masked from Ttest_data (pos = 7):\n",
      "\n",
      "    Q5\n",
      "\n",
      "The following object is masked from Ttest_data (pos = 9):\n",
      "\n",
      "    Q7\n",
      "\n",
      "The following object is masked from Ttest_data (pos = 11):\n",
      "\n",
      "    Q5\n",
      "\n",
      "The following object is masked from Ttest_data (pos = 14):\n",
      "\n",
      "    Q7\n",
      "\n",
      "The following object is masked from Ttest_data (pos = 16):\n",
      "\n",
      "    Q5\n",
      "\n",
      "The following object is masked from Ttest_data (pos = 20):\n",
      "\n",
      "    Q7\n",
      "\n",
      "The following object is masked from Ttest_data (pos = 22):\n",
      "\n",
      "    Q5\n",
      "\n"
     ]
    },
    {
     "data": {
      "text/plain": [
       "\n",
       "\tPaired t-test\n",
       "\n",
       "data:  Q1 and Q2\n",
       "t = -22.211, df = 527, p-value < 2.2e-16\n",
       "alternative hypothesis: true difference in means is not equal to 0\n",
       "99 percent confidence interval:\n",
       " -1.539266 -1.218309\n",
       "sample estimates:\n",
       "mean of the differences \n",
       "              -1.378788 \n"
      ]
     },
     "metadata": {},
     "output_type": "display_data"
    },
    {
     "name": "stdout",
     "output_type": "stream",
     "text": [
      "[1] \"Q5 = Seberapa meningkatnya kemampuan Microsoft Office anda jika dibandingkan waktu SMA dan sekarang\"\n",
      "[1] \"Q7 = Seberapa efisienkah mengolah pembukuan dengan Microsoft Office dibandingkan dengan manual\"\n"
     ]
    }
   ],
   "source": [
    "attach (Ttest_data)\n",
    "t.test (Q1, Q2, mu=0, alt=\"two.sided\", paired=T, conf.level=0.99)\n",
    "print('Q5 = Seberapa meningkatnya kemampuan Microsoft Office anda jika dibandingkan waktu SMA dan sekarang')\n",
    "print('Q7 = Seberapa efisienkah mengolah pembukuan dengan Microsoft Office dibandingkan dengan manual')"
   ]
  },
  {
   "cell_type": "code",
   "execution_count": 60,
   "metadata": {},
   "outputs": [
    {
     "data": {
      "text/html": [
       "<ol class=list-inline>\n",
       "\t<li>'Q5'</li>\n",
       "\t<li>'Q8'</li>\n",
       "</ol>\n"
      ],
      "text/latex": [
       "\\begin{enumerate*}\n",
       "\\item 'Q5'\n",
       "\\item 'Q8'\n",
       "\\end{enumerate*}\n"
      ],
      "text/markdown": [
       "1. 'Q5'\n",
       "2. 'Q8'\n",
       "\n",
       "\n"
      ],
      "text/plain": [
       "[1] \"Q5\" \"Q8\""
      ]
     },
     "metadata": {},
     "output_type": "display_data"
    }
   ],
   "source": [
    "Ttest_data = read.csv (file.choose(),header=T)\n",
    "names(Ttest_data)"
   ]
  },
  {
   "cell_type": "code",
   "execution_count": 61,
   "metadata": {},
   "outputs": [
    {
     "name": "stderr",
     "output_type": "stream",
     "text": [
      "The following object is masked from Ttest_data (pos = 3):\n",
      "\n",
      "    Q5\n",
      "\n",
      "The following object is masked from Ttest_data (pos = 4):\n",
      "\n",
      "    Q5\n",
      "\n",
      "The following object is masked from Ttest_data (pos = 5):\n",
      "\n",
      "    Q8\n",
      "\n",
      "The following object is masked from Ttest_data (pos = 8):\n",
      "\n",
      "    Q5\n",
      "\n",
      "The following object is masked from Ttest_data (pos = 9):\n",
      "\n",
      "    Q8\n",
      "\n",
      "The following object is masked from Ttest_data (pos = 12):\n",
      "\n",
      "    Q5\n",
      "\n",
      "The following object is masked from Ttest_data (pos = 14):\n",
      "\n",
      "    Q8\n",
      "\n",
      "The following object is masked from Ttest_data (pos = 17):\n",
      "\n",
      "    Q5\n",
      "\n",
      "The following object is masked from Ttest_data (pos = 20):\n",
      "\n",
      "    Q8\n",
      "\n",
      "The following object is masked from Ttest_data (pos = 23):\n",
      "\n",
      "    Q5\n",
      "\n"
     ]
    },
    {
     "data": {
      "text/plain": [
       "\n",
       "\tPaired t-test\n",
       "\n",
       "data:  Q1 and Q2\n",
       "t = -22.211, df = 527, p-value < 2.2e-16\n",
       "alternative hypothesis: true difference in means is not equal to 0\n",
       "99 percent confidence interval:\n",
       " -1.539266 -1.218309\n",
       "sample estimates:\n",
       "mean of the differences \n",
       "              -1.378788 \n"
      ]
     },
     "metadata": {},
     "output_type": "display_data"
    },
    {
     "name": "stdout",
     "output_type": "stream",
     "text": [
      "[1] \"Q5 = Seberapa meningkatnya kemampuan Microsoft Office anda jika dibandingkan waktu SMA dan sekarang\"\n",
      "[1] \"Q8 = Seberapa banyak program office selain Microsoft office\"\n"
     ]
    }
   ],
   "source": [
    "attach (Ttest_data)\n",
    "t.test (Q1, Q2, mu=0, alt=\"two.sided\", paired=T, conf.level=0.99)\n",
    "print('Q5 = Seberapa meningkatnya kemampuan Microsoft Office anda jika dibandingkan waktu SMA dan sekarang')\n",
    "print('Q8 = Seberapa banyak program office selain Microsoft office')"
   ]
  },
  {
   "cell_type": "code",
   "execution_count": 62,
   "metadata": {},
   "outputs": [
    {
     "data": {
      "text/html": [
       "<ol class=list-inline>\n",
       "\t<li>'Q6'</li>\n",
       "\t<li>'Q7'</li>\n",
       "</ol>\n"
      ],
      "text/latex": [
       "\\begin{enumerate*}\n",
       "\\item 'Q6'\n",
       "\\item 'Q7'\n",
       "\\end{enumerate*}\n"
      ],
      "text/markdown": [
       "1. 'Q6'\n",
       "2. 'Q7'\n",
       "\n",
       "\n"
      ],
      "text/plain": [
       "[1] \"Q6\" \"Q7\""
      ]
     },
     "metadata": {},
     "output_type": "display_data"
    }
   ],
   "source": [
    "Ttest_data = read.csv (file.choose(),header=T)\n",
    "names(Ttest_data)"
   ]
  },
  {
   "cell_type": "code",
   "execution_count": 63,
   "metadata": {},
   "outputs": [
    {
     "name": "stderr",
     "output_type": "stream",
     "text": [
      "The following object is masked from Ttest_data (pos = 4):\n",
      "\n",
      "    Q7\n",
      "\n",
      "The following object is masked from Ttest_data (pos = 5):\n",
      "\n",
      "    Q6\n",
      "\n",
      "The following object is masked from Ttest_data (pos = 7):\n",
      "\n",
      "    Q7\n",
      "\n",
      "The following object is masked from Ttest_data (pos = 8):\n",
      "\n",
      "    Q6\n",
      "\n",
      "The following object is masked from Ttest_data (pos = 11):\n",
      "\n",
      "    Q7\n",
      "\n",
      "The following object is masked from Ttest_data (pos = 12):\n",
      "\n",
      "    Q6\n",
      "\n",
      "The following object is masked from Ttest_data (pos = 16):\n",
      "\n",
      "    Q7\n",
      "\n",
      "The following object is masked from Ttest_data (pos = 17):\n",
      "\n",
      "    Q6\n",
      "\n",
      "The following object is masked from Ttest_data (pos = 22):\n",
      "\n",
      "    Q7\n",
      "\n",
      "The following object is masked from Ttest_data (pos = 23):\n",
      "\n",
      "    Q6\n",
      "\n"
     ]
    },
    {
     "data": {
      "text/plain": [
       "\n",
       "\tPaired t-test\n",
       "\n",
       "data:  Q1 and Q2\n",
       "t = -22.211, df = 527, p-value < 2.2e-16\n",
       "alternative hypothesis: true difference in means is not equal to 0\n",
       "99 percent confidence interval:\n",
       " -1.539266 -1.218309\n",
       "sample estimates:\n",
       "mean of the differences \n",
       "              -1.378788 \n"
      ]
     },
     "metadata": {},
     "output_type": "display_data"
    },
    {
     "name": "stdout",
     "output_type": "stream",
     "text": [
      "[1] \"Q6 = Seberapa meningkatnya pengetahuan anda tentang membuat laporan setelah menggunakan Microsoft word\"\n",
      "[1] \"Q7 = Seberapa efisienkah mengolah pembukuan dengan Microsoft Office dibandingkan dengan manual\"\n"
     ]
    }
   ],
   "source": [
    "attach (Ttest_data)\n",
    "t.test (Q1, Q2, mu=0, alt=\"two.sided\", paired=T, conf.level=0.99)\n",
    "print('Q6 = Seberapa meningkatnya pengetahuan anda tentang membuat laporan setelah menggunakan Microsoft word')\n",
    "print('Q7 = Seberapa efisienkah mengolah pembukuan dengan Microsoft Office dibandingkan dengan manual')"
   ]
  },
  {
   "cell_type": "code",
   "execution_count": 64,
   "metadata": {},
   "outputs": [
    {
     "data": {
      "text/html": [
       "<ol class=list-inline>\n",
       "\t<li>'Q6'</li>\n",
       "\t<li>'Q8'</li>\n",
       "</ol>\n"
      ],
      "text/latex": [
       "\\begin{enumerate*}\n",
       "\\item 'Q6'\n",
       "\\item 'Q8'\n",
       "\\end{enumerate*}\n"
      ],
      "text/markdown": [
       "1. 'Q6'\n",
       "2. 'Q8'\n",
       "\n",
       "\n"
      ],
      "text/plain": [
       "[1] \"Q6\" \"Q8\""
      ]
     },
     "metadata": {},
     "output_type": "display_data"
    }
   ],
   "source": [
    "Ttest_data = read.csv (file.choose(),header=T)\n",
    "names(Ttest_data)"
   ]
  },
  {
   "cell_type": "code",
   "execution_count": 65,
   "metadata": {},
   "outputs": [
    {
     "name": "stderr",
     "output_type": "stream",
     "text": [
      "The following object is masked from Ttest_data (pos = 3):\n",
      "\n",
      "    Q6\n",
      "\n",
      "The following object is masked from Ttest_data (pos = 4):\n",
      "\n",
      "    Q8\n",
      "\n",
      "The following object is masked from Ttest_data (pos = 6):\n",
      "\n",
      "    Q6\n",
      "\n",
      "The following object is masked from Ttest_data (pos = 7):\n",
      "\n",
      "    Q8\n",
      "\n",
      "The following object is masked from Ttest_data (pos = 9):\n",
      "\n",
      "    Q6\n",
      "\n",
      "The following object is masked from Ttest_data (pos = 11):\n",
      "\n",
      "    Q8\n",
      "\n",
      "The following object is masked from Ttest_data (pos = 13):\n",
      "\n",
      "    Q6\n",
      "\n",
      "The following object is masked from Ttest_data (pos = 16):\n",
      "\n",
      "    Q8\n",
      "\n",
      "The following object is masked from Ttest_data (pos = 18):\n",
      "\n",
      "    Q6\n",
      "\n",
      "The following object is masked from Ttest_data (pos = 22):\n",
      "\n",
      "    Q8\n",
      "\n",
      "The following object is masked from Ttest_data (pos = 24):\n",
      "\n",
      "    Q6\n",
      "\n"
     ]
    },
    {
     "data": {
      "text/plain": [
       "\n",
       "\tPaired t-test\n",
       "\n",
       "data:  Q1 and Q2\n",
       "t = -22.211, df = 527, p-value < 2.2e-16\n",
       "alternative hypothesis: true difference in means is not equal to 0\n",
       "99 percent confidence interval:\n",
       " -1.539266 -1.218309\n",
       "sample estimates:\n",
       "mean of the differences \n",
       "              -1.378788 \n"
      ]
     },
     "metadata": {},
     "output_type": "display_data"
    },
    {
     "name": "stdout",
     "output_type": "stream",
     "text": [
      "[1] \"Q6 = Seberapa meningkatnya pengetahuan anda tentang membuat laporan setelah menggunakan Microsoft word\"\n",
      "[1] \"Q8 = Seberapa banyak program office selain Microsoft office\"\n"
     ]
    }
   ],
   "source": [
    "attach (Ttest_data)\n",
    "t.test (Q1, Q2, mu=0, alt=\"two.sided\", paired=T, conf.level=0.99)\n",
    "print('Q6 = Seberapa meningkatnya pengetahuan anda tentang membuat laporan setelah menggunakan Microsoft word')\n",
    "print('Q8 = Seberapa banyak program office selain Microsoft office')"
   ]
  },
  {
   "cell_type": "code",
   "execution_count": 66,
   "metadata": {},
   "outputs": [
    {
     "data": {
      "text/html": [
       "<ol class=list-inline>\n",
       "\t<li>'Q7'</li>\n",
       "\t<li>'Q8'</li>\n",
       "</ol>\n"
      ],
      "text/latex": [
       "\\begin{enumerate*}\n",
       "\\item 'Q7'\n",
       "\\item 'Q8'\n",
       "\\end{enumerate*}\n"
      ],
      "text/markdown": [
       "1. 'Q7'\n",
       "2. 'Q8'\n",
       "\n",
       "\n"
      ],
      "text/plain": [
       "[1] \"Q7\" \"Q8\""
      ]
     },
     "metadata": {},
     "output_type": "display_data"
    }
   ],
   "source": [
    "Ttest_data = read.csv (file.choose(),header=T)\n",
    "names(Ttest_data)"
   ]
  },
  {
   "cell_type": "code",
   "execution_count": 67,
   "metadata": {},
   "outputs": [
    {
     "name": "stderr",
     "output_type": "stream",
     "text": [
      "The following object is masked from Ttest_data (pos = 3):\n",
      "\n",
      "    Q8\n",
      "\n",
      "The following object is masked from Ttest_data (pos = 4):\n",
      "\n",
      "    Q7\n",
      "\n",
      "The following object is masked from Ttest_data (pos = 5):\n",
      "\n",
      "    Q8\n",
      "\n",
      "The following object is masked from Ttest_data (pos = 6):\n",
      "\n",
      "    Q7\n",
      "\n",
      "The following object is masked from Ttest_data (pos = 8):\n",
      "\n",
      "    Q8\n",
      "\n",
      "The following object is masked from Ttest_data (pos = 9):\n",
      "\n",
      "    Q7\n",
      "\n",
      "The following object is masked from Ttest_data (pos = 12):\n",
      "\n",
      "    Q8\n",
      "\n",
      "The following object is masked from Ttest_data (pos = 13):\n",
      "\n",
      "    Q7\n",
      "\n",
      "The following object is masked from Ttest_data (pos = 17):\n",
      "\n",
      "    Q8\n",
      "\n",
      "The following object is masked from Ttest_data (pos = 18):\n",
      "\n",
      "    Q7\n",
      "\n",
      "The following object is masked from Ttest_data (pos = 23):\n",
      "\n",
      "    Q8\n",
      "\n",
      "The following object is masked from Ttest_data (pos = 24):\n",
      "\n",
      "    Q7\n",
      "\n"
     ]
    },
    {
     "data": {
      "text/plain": [
       "\n",
       "\tPaired t-test\n",
       "\n",
       "data:  Q1 and Q2\n",
       "t = -22.211, df = 527, p-value < 2.2e-16\n",
       "alternative hypothesis: true difference in means is not equal to 0\n",
       "99 percent confidence interval:\n",
       " -1.539266 -1.218309\n",
       "sample estimates:\n",
       "mean of the differences \n",
       "              -1.378788 \n"
      ]
     },
     "metadata": {},
     "output_type": "display_data"
    },
    {
     "name": "stdout",
     "output_type": "stream",
     "text": [
      "[1] \"Q7 = Seberapa efisienkah mengolah pembukuan dengan Microsoft Office dibandingkan dengan manual\"\n",
      "[1] \"Q8 = Seberapa banyak program office selain Microsoft office\"\n"
     ]
    }
   ],
   "source": [
    "attach (Ttest_data)\n",
    "t.test (Q1, Q2, mu=0, alt=\"two.sided\", paired=T, conf.level=0.99)\n",
    "print('Q7 = Seberapa efisienkah mengolah pembukuan dengan Microsoft Office dibandingkan dengan manual')\n",
    "print('Q8 = Seberapa banyak program office selain Microsoft office')"
   ]
  },
  {
   "cell_type": "markdown",
   "metadata": {},
   "source": [
    "### 3. Uji data menggunakan Principal Component Analysis"
   ]
  },
  {
   "cell_type": "code",
   "execution_count": 100,
   "metadata": {},
   "outputs": [],
   "source": [
    "mydata<-read.csv('AOK data baru.csv')"
   ]
  },
  {
   "cell_type": "code",
   "execution_count": 101,
   "metadata": {},
   "outputs": [
    {
     "data": {
      "text/html": [
       "<table>\n",
       "<thead><tr><th scope=col>Responded</th><th scope=col>Q1</th><th scope=col>Q2</th><th scope=col>Q3</th><th scope=col>Q4</th><th scope=col>Q5</th><th scope=col>Q6</th><th scope=col>Q7</th><th scope=col>Q8</th></tr></thead>\n",
       "<tbody>\n",
       "\t<tr><td>Responded 1 </td><td>2           </td><td>2           </td><td>3           </td><td>2           </td><td>2           </td><td>4           </td><td>2           </td><td>4           </td></tr>\n",
       "\t<tr><td>Responded 2 </td><td>1           </td><td>2           </td><td>2           </td><td>2           </td><td>2           </td><td>1           </td><td>1           </td><td>3           </td></tr>\n",
       "\t<tr><td>Responded 3 </td><td>1           </td><td>2           </td><td>2           </td><td>2           </td><td>2           </td><td>1           </td><td>1           </td><td>2           </td></tr>\n",
       "\t<tr><td>Responded 4 </td><td>1           </td><td>2           </td><td>2           </td><td>2           </td><td>1           </td><td>2           </td><td>2           </td><td>2           </td></tr>\n",
       "\t<tr><td>Responded 5 </td><td>5           </td><td>1           </td><td>2           </td><td>3           </td><td>4           </td><td>1           </td><td>1           </td><td>2           </td></tr>\n",
       "\t<tr><td>Responded 6 </td><td>2           </td><td>1           </td><td>2           </td><td>1           </td><td>3           </td><td>2           </td><td>2           </td><td>2           </td></tr>\n",
       "\t<tr><td>Responded 7 </td><td>1           </td><td>4           </td><td>2           </td><td>2           </td><td>2           </td><td>1           </td><td>2           </td><td>4           </td></tr>\n",
       "\t<tr><td>Responded 8 </td><td>2           </td><td>2           </td><td>3           </td><td>3           </td><td>2           </td><td>2           </td><td>2           </td><td>2           </td></tr>\n",
       "\t<tr><td>Responded 9 </td><td>2           </td><td>4           </td><td>2           </td><td>2           </td><td>3           </td><td>2           </td><td>2           </td><td>2           </td></tr>\n",
       "\t<tr><td>Responded 10</td><td>1           </td><td>2           </td><td>1           </td><td>3           </td><td>2           </td><td>2           </td><td>1           </td><td>2           </td></tr>\n",
       "\t<tr><td>Responded 11</td><td>1           </td><td>4           </td><td>1           </td><td>4           </td><td>2           </td><td>5           </td><td>1           </td><td>1           </td></tr>\n",
       "\t<tr><td>Responded 12</td><td>1           </td><td>4           </td><td>1           </td><td>4           </td><td>2           </td><td>5           </td><td>1           </td><td>1           </td></tr>\n",
       "\t<tr><td>Responded 13</td><td>1           </td><td>1           </td><td>1           </td><td>1           </td><td>1           </td><td>1           </td><td>1           </td><td>2           </td></tr>\n",
       "\t<tr><td>Responded 14</td><td>2           </td><td>2           </td><td>2           </td><td>2           </td><td>2           </td><td>2           </td><td>1           </td><td>1           </td></tr>\n",
       "\t<tr><td>Responded 15</td><td>2           </td><td>4           </td><td>2           </td><td>3           </td><td>2           </td><td>2           </td><td>1           </td><td>1           </td></tr>\n",
       "\t<tr><td>Responded 16</td><td>2           </td><td>5           </td><td>3           </td><td>2           </td><td>2           </td><td>1           </td><td>1           </td><td>2           </td></tr>\n",
       "\t<tr><td>Responded 17</td><td>2           </td><td>2           </td><td>4           </td><td>3           </td><td>3           </td><td>3           </td><td>2           </td><td>1           </td></tr>\n",
       "\t<tr><td>Responded 18</td><td>2           </td><td>3           </td><td>4           </td><td>3           </td><td>2           </td><td>2           </td><td>2           </td><td>2           </td></tr>\n",
       "\t<tr><td>Responded 19</td><td>2           </td><td>5           </td><td>3           </td><td>3           </td><td>2           </td><td>4           </td><td>2           </td><td>3           </td></tr>\n",
       "\t<tr><td>Responded 20</td><td>1           </td><td>5           </td><td>2           </td><td>2           </td><td>2           </td><td>2           </td><td>2           </td><td>2           </td></tr>\n",
       "\t<tr><td>Responded 21</td><td>2           </td><td>2           </td><td>2           </td><td>2           </td><td>2           </td><td>1           </td><td>1           </td><td>2           </td></tr>\n",
       "\t<tr><td>Responded 22</td><td>1           </td><td>4           </td><td>2           </td><td>3           </td><td>2           </td><td>2           </td><td>1           </td><td>3           </td></tr>\n",
       "\t<tr><td>Responded 23</td><td>1           </td><td>2           </td><td>2           </td><td>2           </td><td>2           </td><td>2           </td><td>1           </td><td>2           </td></tr>\n",
       "\t<tr><td>Responded 24</td><td>2           </td><td>2           </td><td>2           </td><td>3           </td><td>2           </td><td>2           </td><td>2           </td><td>2           </td></tr>\n",
       "\t<tr><td>Responded 25</td><td>2           </td><td>2           </td><td>2           </td><td>2           </td><td>2           </td><td>2           </td><td>2           </td><td>2           </td></tr>\n",
       "\t<tr><td>Responded 26</td><td>2           </td><td>2           </td><td>2           </td><td>2           </td><td>2           </td><td>2           </td><td>2           </td><td>2           </td></tr>\n",
       "\t<tr><td>Responded 27</td><td>5           </td><td>5           </td><td>5           </td><td>3           </td><td>1           </td><td>1           </td><td>1           </td><td>2           </td></tr>\n",
       "\t<tr><td>Responded 28</td><td>1           </td><td>2           </td><td>2           </td><td>3           </td><td>3           </td><td>2           </td><td>2           </td><td>2           </td></tr>\n",
       "\t<tr><td>Responded 29</td><td>2           </td><td>5           </td><td>2           </td><td>3           </td><td>3           </td><td>2           </td><td>2           </td><td>3           </td></tr>\n",
       "\t<tr><td>Responded 30</td><td>2           </td><td>5           </td><td>1           </td><td>3           </td><td>2           </td><td>2           </td><td>2           </td><td>2           </td></tr>\n",
       "\t<tr><td>...</td><td>...</td><td>...</td><td>...</td><td>...</td><td>...</td><td>...</td><td>...</td><td>...</td></tr>\n",
       "\t<tr><td>Responded 499</td><td>2            </td><td>4            </td><td>1            </td><td>2            </td><td>2            </td><td>2            </td><td>1            </td><td>2            </td></tr>\n",
       "\t<tr><td>Responded 500</td><td>1            </td><td>3            </td><td>2            </td><td>3            </td><td>3            </td><td>2            </td><td>1            </td><td>3            </td></tr>\n",
       "\t<tr><td>Responded 501</td><td>2            </td><td>4            </td><td>2            </td><td>2            </td><td>1            </td><td>1            </td><td>1            </td><td>4            </td></tr>\n",
       "\t<tr><td>Responded 502</td><td>2            </td><td>2            </td><td>1            </td><td>2            </td><td>3            </td><td>4            </td><td>1            </td><td>3            </td></tr>\n",
       "\t<tr><td>Responded 503</td><td>2            </td><td>2            </td><td>2            </td><td>2            </td><td>2            </td><td>4            </td><td>2            </td><td>2            </td></tr>\n",
       "\t<tr><td>Responded 504</td><td>2            </td><td>3            </td><td>2            </td><td>2            </td><td>2            </td><td>2            </td><td>2            </td><td>3            </td></tr>\n",
       "\t<tr><td>Responded 505</td><td>2            </td><td>3            </td><td>2            </td><td>2            </td><td>2            </td><td>2            </td><td>2            </td><td>1            </td></tr>\n",
       "\t<tr><td>Responded 506</td><td>2            </td><td>4            </td><td>2            </td><td>4            </td><td>2            </td><td>2            </td><td>1            </td><td>3            </td></tr>\n",
       "\t<tr><td>Responded 507</td><td>5            </td><td>4            </td><td>4            </td><td>4            </td><td>2            </td><td>1            </td><td>2            </td><td>2            </td></tr>\n",
       "\t<tr><td>Responded 508</td><td>2            </td><td>5            </td><td>3            </td><td>3            </td><td>2            </td><td>4            </td><td>2            </td><td>2            </td></tr>\n",
       "\t<tr><td>Responded 509</td><td>2            </td><td>2            </td><td>3            </td><td>3            </td><td>3            </td><td>2            </td><td>2            </td><td>2            </td></tr>\n",
       "\t<tr><td>Responded 510</td><td>1            </td><td>4            </td><td>3            </td><td>3            </td><td>2            </td><td>2            </td><td>2            </td><td>3            </td></tr>\n",
       "\t<tr><td>Responded 511</td><td>1            </td><td>2            </td><td>2            </td><td>3            </td><td>2            </td><td>2            </td><td>1            </td><td>2            </td></tr>\n",
       "\t<tr><td>Responded 512</td><td>1            </td><td>2            </td><td>2            </td><td>3            </td><td>1            </td><td>1            </td><td>1            </td><td>2            </td></tr>\n",
       "\t<tr><td>Responded 513</td><td>1            </td><td>5            </td><td>2            </td><td>2            </td><td>2            </td><td>2            </td><td>2            </td><td>2            </td></tr>\n",
       "\t<tr><td>Responded 514</td><td>2            </td><td>3            </td><td>3            </td><td>3            </td><td>2            </td><td>2            </td><td>2            </td><td>4            </td></tr>\n",
       "\t<tr><td>Responded 515</td><td>2            </td><td>2            </td><td>3            </td><td>2            </td><td>2            </td><td>2            </td><td>1            </td><td>3            </td></tr>\n",
       "\t<tr><td>Responded 516</td><td>2            </td><td>4            </td><td>2            </td><td>2            </td><td>2            </td><td>4            </td><td>2            </td><td>4            </td></tr>\n",
       "\t<tr><td>Responded 517</td><td>1            </td><td>5            </td><td>1            </td><td>2            </td><td>1            </td><td>1            </td><td>1            </td><td>2            </td></tr>\n",
       "\t<tr><td>Responded 518</td><td>2            </td><td>4            </td><td>2            </td><td>2            </td><td>1            </td><td>1            </td><td>2            </td><td>2            </td></tr>\n",
       "\t<tr><td>Responded 519</td><td>2            </td><td>2            </td><td>3            </td><td>5            </td><td>1            </td><td>2            </td><td>2            </td><td>2            </td></tr>\n",
       "\t<tr><td>Responded 520</td><td>1            </td><td>5            </td><td>1            </td><td>2            </td><td>1            </td><td>1            </td><td>1            </td><td>2            </td></tr>\n",
       "\t<tr><td>Responded 521</td><td>1            </td><td>3            </td><td>2            </td><td>3            </td><td>1            </td><td>1            </td><td>1            </td><td>2            </td></tr>\n",
       "\t<tr><td>Responded 522</td><td>2            </td><td>4            </td><td>2            </td><td>3            </td><td>3            </td><td>4            </td><td>2            </td><td>2            </td></tr>\n",
       "\t<tr><td>Responded 523</td><td>1            </td><td>3            </td><td>1            </td><td>2            </td><td>2            </td><td>2            </td><td>1            </td><td>2            </td></tr>\n",
       "\t<tr><td>Responded 524</td><td>2            </td><td>2            </td><td>2            </td><td>3            </td><td>2            </td><td>2            </td><td>3            </td><td>2            </td></tr>\n",
       "\t<tr><td>Responded 525</td><td>1            </td><td>1            </td><td>2            </td><td>3            </td><td>3            </td><td>2            </td><td>3            </td><td>1            </td></tr>\n",
       "\t<tr><td>Responded 526</td><td>2            </td><td>3            </td><td>2            </td><td>3            </td><td>2            </td><td>2            </td><td>2            </td><td>2            </td></tr>\n",
       "\t<tr><td>Responded 527</td><td>2            </td><td>4            </td><td>2            </td><td>3            </td><td>3            </td><td>2            </td><td>2            </td><td>2            </td></tr>\n",
       "\t<tr><td>Responded 528</td><td>2            </td><td>2            </td><td>2            </td><td>3            </td><td>3            </td><td>4            </td><td>3            </td><td>3            </td></tr>\n",
       "</tbody>\n",
       "</table>\n"
      ],
      "text/latex": [
       "\\begin{tabular}{r|lllllllll}\n",
       " Responded & Q1 & Q2 & Q3 & Q4 & Q5 & Q6 & Q7 & Q8\\\\\n",
       "\\hline\n",
       "\t Responded 1  & 2            & 2            & 3            & 2            & 2            & 4            & 2            & 4           \\\\\n",
       "\t Responded 2  & 1            & 2            & 2            & 2            & 2            & 1            & 1            & 3           \\\\\n",
       "\t Responded 3  & 1            & 2            & 2            & 2            & 2            & 1            & 1            & 2           \\\\\n",
       "\t Responded 4  & 1            & 2            & 2            & 2            & 1            & 2            & 2            & 2           \\\\\n",
       "\t Responded 5  & 5            & 1            & 2            & 3            & 4            & 1            & 1            & 2           \\\\\n",
       "\t Responded 6  & 2            & 1            & 2            & 1            & 3            & 2            & 2            & 2           \\\\\n",
       "\t Responded 7  & 1            & 4            & 2            & 2            & 2            & 1            & 2            & 4           \\\\\n",
       "\t Responded 8  & 2            & 2            & 3            & 3            & 2            & 2            & 2            & 2           \\\\\n",
       "\t Responded 9  & 2            & 4            & 2            & 2            & 3            & 2            & 2            & 2           \\\\\n",
       "\t Responded 10 & 1            & 2            & 1            & 3            & 2            & 2            & 1            & 2           \\\\\n",
       "\t Responded 11 & 1            & 4            & 1            & 4            & 2            & 5            & 1            & 1           \\\\\n",
       "\t Responded 12 & 1            & 4            & 1            & 4            & 2            & 5            & 1            & 1           \\\\\n",
       "\t Responded 13 & 1            & 1            & 1            & 1            & 1            & 1            & 1            & 2           \\\\\n",
       "\t Responded 14 & 2            & 2            & 2            & 2            & 2            & 2            & 1            & 1           \\\\\n",
       "\t Responded 15 & 2            & 4            & 2            & 3            & 2            & 2            & 1            & 1           \\\\\n",
       "\t Responded 16 & 2            & 5            & 3            & 2            & 2            & 1            & 1            & 2           \\\\\n",
       "\t Responded 17 & 2            & 2            & 4            & 3            & 3            & 3            & 2            & 1           \\\\\n",
       "\t Responded 18 & 2            & 3            & 4            & 3            & 2            & 2            & 2            & 2           \\\\\n",
       "\t Responded 19 & 2            & 5            & 3            & 3            & 2            & 4            & 2            & 3           \\\\\n",
       "\t Responded 20 & 1            & 5            & 2            & 2            & 2            & 2            & 2            & 2           \\\\\n",
       "\t Responded 21 & 2            & 2            & 2            & 2            & 2            & 1            & 1            & 2           \\\\\n",
       "\t Responded 22 & 1            & 4            & 2            & 3            & 2            & 2            & 1            & 3           \\\\\n",
       "\t Responded 23 & 1            & 2            & 2            & 2            & 2            & 2            & 1            & 2           \\\\\n",
       "\t Responded 24 & 2            & 2            & 2            & 3            & 2            & 2            & 2            & 2           \\\\\n",
       "\t Responded 25 & 2            & 2            & 2            & 2            & 2            & 2            & 2            & 2           \\\\\n",
       "\t Responded 26 & 2            & 2            & 2            & 2            & 2            & 2            & 2            & 2           \\\\\n",
       "\t Responded 27 & 5            & 5            & 5            & 3            & 1            & 1            & 1            & 2           \\\\\n",
       "\t Responded 28 & 1            & 2            & 2            & 3            & 3            & 2            & 2            & 2           \\\\\n",
       "\t Responded 29 & 2            & 5            & 2            & 3            & 3            & 2            & 2            & 3           \\\\\n",
       "\t Responded 30 & 2            & 5            & 1            & 3            & 2            & 2            & 2            & 2           \\\\\n",
       "\t ... & ... & ... & ... & ... & ... & ... & ... & ...\\\\\n",
       "\t Responded 499 & 2             & 4             & 1             & 2             & 2             & 2             & 1             & 2            \\\\\n",
       "\t Responded 500 & 1             & 3             & 2             & 3             & 3             & 2             & 1             & 3            \\\\\n",
       "\t Responded 501 & 2             & 4             & 2             & 2             & 1             & 1             & 1             & 4            \\\\\n",
       "\t Responded 502 & 2             & 2             & 1             & 2             & 3             & 4             & 1             & 3            \\\\\n",
       "\t Responded 503 & 2             & 2             & 2             & 2             & 2             & 4             & 2             & 2            \\\\\n",
       "\t Responded 504 & 2             & 3             & 2             & 2             & 2             & 2             & 2             & 3            \\\\\n",
       "\t Responded 505 & 2             & 3             & 2             & 2             & 2             & 2             & 2             & 1            \\\\\n",
       "\t Responded 506 & 2             & 4             & 2             & 4             & 2             & 2             & 1             & 3            \\\\\n",
       "\t Responded 507 & 5             & 4             & 4             & 4             & 2             & 1             & 2             & 2            \\\\\n",
       "\t Responded 508 & 2             & 5             & 3             & 3             & 2             & 4             & 2             & 2            \\\\\n",
       "\t Responded 509 & 2             & 2             & 3             & 3             & 3             & 2             & 2             & 2            \\\\\n",
       "\t Responded 510 & 1             & 4             & 3             & 3             & 2             & 2             & 2             & 3            \\\\\n",
       "\t Responded 511 & 1             & 2             & 2             & 3             & 2             & 2             & 1             & 2            \\\\\n",
       "\t Responded 512 & 1             & 2             & 2             & 3             & 1             & 1             & 1             & 2            \\\\\n",
       "\t Responded 513 & 1             & 5             & 2             & 2             & 2             & 2             & 2             & 2            \\\\\n",
       "\t Responded 514 & 2             & 3             & 3             & 3             & 2             & 2             & 2             & 4            \\\\\n",
       "\t Responded 515 & 2             & 2             & 3             & 2             & 2             & 2             & 1             & 3            \\\\\n",
       "\t Responded 516 & 2             & 4             & 2             & 2             & 2             & 4             & 2             & 4            \\\\\n",
       "\t Responded 517 & 1             & 5             & 1             & 2             & 1             & 1             & 1             & 2            \\\\\n",
       "\t Responded 518 & 2             & 4             & 2             & 2             & 1             & 1             & 2             & 2            \\\\\n",
       "\t Responded 519 & 2             & 2             & 3             & 5             & 1             & 2             & 2             & 2            \\\\\n",
       "\t Responded 520 & 1             & 5             & 1             & 2             & 1             & 1             & 1             & 2            \\\\\n",
       "\t Responded 521 & 1             & 3             & 2             & 3             & 1             & 1             & 1             & 2            \\\\\n",
       "\t Responded 522 & 2             & 4             & 2             & 3             & 3             & 4             & 2             & 2            \\\\\n",
       "\t Responded 523 & 1             & 3             & 1             & 2             & 2             & 2             & 1             & 2            \\\\\n",
       "\t Responded 524 & 2             & 2             & 2             & 3             & 2             & 2             & 3             & 2            \\\\\n",
       "\t Responded 525 & 1             & 1             & 2             & 3             & 3             & 2             & 3             & 1            \\\\\n",
       "\t Responded 526 & 2             & 3             & 2             & 3             & 2             & 2             & 2             & 2            \\\\\n",
       "\t Responded 527 & 2             & 4             & 2             & 3             & 3             & 2             & 2             & 2            \\\\\n",
       "\t Responded 528 & 2             & 2             & 2             & 3             & 3             & 4             & 3             & 3            \\\\\n",
       "\\end{tabular}\n"
      ],
      "text/markdown": [
       "\n",
       "| Responded | Q1 | Q2 | Q3 | Q4 | Q5 | Q6 | Q7 | Q8 |\n",
       "|---|---|---|---|---|---|---|---|---|\n",
       "| Responded 1  | 2            | 2            | 3            | 2            | 2            | 4            | 2            | 4            |\n",
       "| Responded 2  | 1            | 2            | 2            | 2            | 2            | 1            | 1            | 3            |\n",
       "| Responded 3  | 1            | 2            | 2            | 2            | 2            | 1            | 1            | 2            |\n",
       "| Responded 4  | 1            | 2            | 2            | 2            | 1            | 2            | 2            | 2            |\n",
       "| Responded 5  | 5            | 1            | 2            | 3            | 4            | 1            | 1            | 2            |\n",
       "| Responded 6  | 2            | 1            | 2            | 1            | 3            | 2            | 2            | 2            |\n",
       "| Responded 7  | 1            | 4            | 2            | 2            | 2            | 1            | 2            | 4            |\n",
       "| Responded 8  | 2            | 2            | 3            | 3            | 2            | 2            | 2            | 2            |\n",
       "| Responded 9  | 2            | 4            | 2            | 2            | 3            | 2            | 2            | 2            |\n",
       "| Responded 10 | 1            | 2            | 1            | 3            | 2            | 2            | 1            | 2            |\n",
       "| Responded 11 | 1            | 4            | 1            | 4            | 2            | 5            | 1            | 1            |\n",
       "| Responded 12 | 1            | 4            | 1            | 4            | 2            | 5            | 1            | 1            |\n",
       "| Responded 13 | 1            | 1            | 1            | 1            | 1            | 1            | 1            | 2            |\n",
       "| Responded 14 | 2            | 2            | 2            | 2            | 2            | 2            | 1            | 1            |\n",
       "| Responded 15 | 2            | 4            | 2            | 3            | 2            | 2            | 1            | 1            |\n",
       "| Responded 16 | 2            | 5            | 3            | 2            | 2            | 1            | 1            | 2            |\n",
       "| Responded 17 | 2            | 2            | 4            | 3            | 3            | 3            | 2            | 1            |\n",
       "| Responded 18 | 2            | 3            | 4            | 3            | 2            | 2            | 2            | 2            |\n",
       "| Responded 19 | 2            | 5            | 3            | 3            | 2            | 4            | 2            | 3            |\n",
       "| Responded 20 | 1            | 5            | 2            | 2            | 2            | 2            | 2            | 2            |\n",
       "| Responded 21 | 2            | 2            | 2            | 2            | 2            | 1            | 1            | 2            |\n",
       "| Responded 22 | 1            | 4            | 2            | 3            | 2            | 2            | 1            | 3            |\n",
       "| Responded 23 | 1            | 2            | 2            | 2            | 2            | 2            | 1            | 2            |\n",
       "| Responded 24 | 2            | 2            | 2            | 3            | 2            | 2            | 2            | 2            |\n",
       "| Responded 25 | 2            | 2            | 2            | 2            | 2            | 2            | 2            | 2            |\n",
       "| Responded 26 | 2            | 2            | 2            | 2            | 2            | 2            | 2            | 2            |\n",
       "| Responded 27 | 5            | 5            | 5            | 3            | 1            | 1            | 1            | 2            |\n",
       "| Responded 28 | 1            | 2            | 2            | 3            | 3            | 2            | 2            | 2            |\n",
       "| Responded 29 | 2            | 5            | 2            | 3            | 3            | 2            | 2            | 3            |\n",
       "| Responded 30 | 2            | 5            | 1            | 3            | 2            | 2            | 2            | 2            |\n",
       "| ... | ... | ... | ... | ... | ... | ... | ... | ... |\n",
       "| Responded 499 | 2             | 4             | 1             | 2             | 2             | 2             | 1             | 2             |\n",
       "| Responded 500 | 1             | 3             | 2             | 3             | 3             | 2             | 1             | 3             |\n",
       "| Responded 501 | 2             | 4             | 2             | 2             | 1             | 1             | 1             | 4             |\n",
       "| Responded 502 | 2             | 2             | 1             | 2             | 3             | 4             | 1             | 3             |\n",
       "| Responded 503 | 2             | 2             | 2             | 2             | 2             | 4             | 2             | 2             |\n",
       "| Responded 504 | 2             | 3             | 2             | 2             | 2             | 2             | 2             | 3             |\n",
       "| Responded 505 | 2             | 3             | 2             | 2             | 2             | 2             | 2             | 1             |\n",
       "| Responded 506 | 2             | 4             | 2             | 4             | 2             | 2             | 1             | 3             |\n",
       "| Responded 507 | 5             | 4             | 4             | 4             | 2             | 1             | 2             | 2             |\n",
       "| Responded 508 | 2             | 5             | 3             | 3             | 2             | 4             | 2             | 2             |\n",
       "| Responded 509 | 2             | 2             | 3             | 3             | 3             | 2             | 2             | 2             |\n",
       "| Responded 510 | 1             | 4             | 3             | 3             | 2             | 2             | 2             | 3             |\n",
       "| Responded 511 | 1             | 2             | 2             | 3             | 2             | 2             | 1             | 2             |\n",
       "| Responded 512 | 1             | 2             | 2             | 3             | 1             | 1             | 1             | 2             |\n",
       "| Responded 513 | 1             | 5             | 2             | 2             | 2             | 2             | 2             | 2             |\n",
       "| Responded 514 | 2             | 3             | 3             | 3             | 2             | 2             | 2             | 4             |\n",
       "| Responded 515 | 2             | 2             | 3             | 2             | 2             | 2             | 1             | 3             |\n",
       "| Responded 516 | 2             | 4             | 2             | 2             | 2             | 4             | 2             | 4             |\n",
       "| Responded 517 | 1             | 5             | 1             | 2             | 1             | 1             | 1             | 2             |\n",
       "| Responded 518 | 2             | 4             | 2             | 2             | 1             | 1             | 2             | 2             |\n",
       "| Responded 519 | 2             | 2             | 3             | 5             | 1             | 2             | 2             | 2             |\n",
       "| Responded 520 | 1             | 5             | 1             | 2             | 1             | 1             | 1             | 2             |\n",
       "| Responded 521 | 1             | 3             | 2             | 3             | 1             | 1             | 1             | 2             |\n",
       "| Responded 522 | 2             | 4             | 2             | 3             | 3             | 4             | 2             | 2             |\n",
       "| Responded 523 | 1             | 3             | 1             | 2             | 2             | 2             | 1             | 2             |\n",
       "| Responded 524 | 2             | 2             | 2             | 3             | 2             | 2             | 3             | 2             |\n",
       "| Responded 525 | 1             | 1             | 2             | 3             | 3             | 2             | 3             | 1             |\n",
       "| Responded 526 | 2             | 3             | 2             | 3             | 2             | 2             | 2             | 2             |\n",
       "| Responded 527 | 2             | 4             | 2             | 3             | 3             | 2             | 2             | 2             |\n",
       "| Responded 528 | 2             | 2             | 2             | 3             | 3             | 4             | 3             | 3             |\n",
       "\n"
      ],
      "text/plain": [
       "    Responded     Q1  Q2  Q3  Q4  Q5  Q6  Q7  Q8 \n",
       "1   Responded 1   2   2   3   2   2   4   2   4  \n",
       "2   Responded 2   1   2   2   2   2   1   1   3  \n",
       "3   Responded 3   1   2   2   2   2   1   1   2  \n",
       "4   Responded 4   1   2   2   2   1   2   2   2  \n",
       "5   Responded 5   5   1   2   3   4   1   1   2  \n",
       "6   Responded 6   2   1   2   1   3   2   2   2  \n",
       "7   Responded 7   1   4   2   2   2   1   2   4  \n",
       "8   Responded 8   2   2   3   3   2   2   2   2  \n",
       "9   Responded 9   2   4   2   2   3   2   2   2  \n",
       "10  Responded 10  1   2   1   3   2   2   1   2  \n",
       "11  Responded 11  1   4   1   4   2   5   1   1  \n",
       "12  Responded 12  1   4   1   4   2   5   1   1  \n",
       "13  Responded 13  1   1   1   1   1   1   1   2  \n",
       "14  Responded 14  2   2   2   2   2   2   1   1  \n",
       "15  Responded 15  2   4   2   3   2   2   1   1  \n",
       "16  Responded 16  2   5   3   2   2   1   1   2  \n",
       "17  Responded 17  2   2   4   3   3   3   2   1  \n",
       "18  Responded 18  2   3   4   3   2   2   2   2  \n",
       "19  Responded 19  2   5   3   3   2   4   2   3  \n",
       "20  Responded 20  1   5   2   2   2   2   2   2  \n",
       "21  Responded 21  2   2   2   2   2   1   1   2  \n",
       "22  Responded 22  1   4   2   3   2   2   1   3  \n",
       "23  Responded 23  1   2   2   2   2   2   1   2  \n",
       "24  Responded 24  2   2   2   3   2   2   2   2  \n",
       "25  Responded 25  2   2   2   2   2   2   2   2  \n",
       "26  Responded 26  2   2   2   2   2   2   2   2  \n",
       "27  Responded 27  5   5   5   3   1   1   1   2  \n",
       "28  Responded 28  1   2   2   3   3   2   2   2  \n",
       "29  Responded 29  2   5   2   3   3   2   2   3  \n",
       "30  Responded 30  2   5   1   3   2   2   2   2  \n",
       "... ...           ... ... ... ... ... ... ... ...\n",
       "499 Responded 499 2   4   1   2   2   2   1   2  \n",
       "500 Responded 500 1   3   2   3   3   2   1   3  \n",
       "501 Responded 501 2   4   2   2   1   1   1   4  \n",
       "502 Responded 502 2   2   1   2   3   4   1   3  \n",
       "503 Responded 503 2   2   2   2   2   4   2   2  \n",
       "504 Responded 504 2   3   2   2   2   2   2   3  \n",
       "505 Responded 505 2   3   2   2   2   2   2   1  \n",
       "506 Responded 506 2   4   2   4   2   2   1   3  \n",
       "507 Responded 507 5   4   4   4   2   1   2   2  \n",
       "508 Responded 508 2   5   3   3   2   4   2   2  \n",
       "509 Responded 509 2   2   3   3   3   2   2   2  \n",
       "510 Responded 510 1   4   3   3   2   2   2   3  \n",
       "511 Responded 511 1   2   2   3   2   2   1   2  \n",
       "512 Responded 512 1   2   2   3   1   1   1   2  \n",
       "513 Responded 513 1   5   2   2   2   2   2   2  \n",
       "514 Responded 514 2   3   3   3   2   2   2   4  \n",
       "515 Responded 515 2   2   3   2   2   2   1   3  \n",
       "516 Responded 516 2   4   2   2   2   4   2   4  \n",
       "517 Responded 517 1   5   1   2   1   1   1   2  \n",
       "518 Responded 518 2   4   2   2   1   1   2   2  \n",
       "519 Responded 519 2   2   3   5   1   2   2   2  \n",
       "520 Responded 520 1   5   1   2   1   1   1   2  \n",
       "521 Responded 521 1   3   2   3   1   1   1   2  \n",
       "522 Responded 522 2   4   2   3   3   4   2   2  \n",
       "523 Responded 523 1   3   1   2   2   2   1   2  \n",
       "524 Responded 524 2   2   2   3   2   2   3   2  \n",
       "525 Responded 525 1   1   2   3   3   2   3   1  \n",
       "526 Responded 526 2   3   2   3   2   2   2   2  \n",
       "527 Responded 527 2   4   2   3   3   2   2   2  \n",
       "528 Responded 528 2   2   2   3   3   4   3   3  "
      ]
     },
     "metadata": {},
     "output_type": "display_data"
    }
   ],
   "source": [
    "mydata"
   ]
  },
  {
   "cell_type": "code",
   "execution_count": 102,
   "metadata": {},
   "outputs": [
    {
     "name": "stderr",
     "output_type": "stream",
     "text": [
      "The following objects are masked from Ttest_data (pos = 3):\n",
      "\n",
      "    Q1, Q2\n",
      "\n",
      "The following objects are masked from mydata (pos = 4):\n",
      "\n",
      "    Q1, Q2, Q3, Q4, Q5, Q6, Q7, Q8\n",
      "\n",
      "The following objects are masked from Ttest_data (pos = 5):\n",
      "\n",
      "    Q7, Q8\n",
      "\n",
      "The following objects are masked from Ttest_data (pos = 6):\n",
      "\n",
      "    Q6, Q8\n",
      "\n",
      "The following objects are masked from Ttest_data (pos = 7):\n",
      "\n",
      "    Q6, Q7\n",
      "\n",
      "The following objects are masked from Ttest_data (pos = 8):\n",
      "\n",
      "    Q5, Q8\n",
      "\n",
      "The following objects are masked from Ttest_data (pos = 9):\n",
      "\n",
      "    Q5, Q7\n",
      "\n",
      "The following objects are masked from Ttest_data (pos = 10):\n",
      "\n",
      "    Q5, Q6\n",
      "\n",
      "The following objects are masked from Ttest_data (pos = 11):\n",
      "\n",
      "    Q4, Q8\n",
      "\n",
      "The following objects are masked from Ttest_data (pos = 12):\n",
      "\n",
      "    Q4, Q7\n",
      "\n",
      "The following objects are masked from Ttest_data (pos = 13):\n",
      "\n",
      "    Q4, Q6\n",
      "\n",
      "The following objects are masked from Ttest_data (pos = 14):\n",
      "\n",
      "    Q4, Q5\n",
      "\n",
      "The following objects are masked from Ttest_data (pos = 15):\n",
      "\n",
      "    Q3, Q8\n",
      "\n",
      "The following objects are masked from Ttest_data (pos = 16):\n",
      "\n",
      "    Q3, Q7\n",
      "\n",
      "The following objects are masked from Ttest_data (pos = 17):\n",
      "\n",
      "    Q3, Q6\n",
      "\n",
      "The following objects are masked from Ttest_data (pos = 18):\n",
      "\n",
      "    Q3, Q5\n",
      "\n",
      "The following objects are masked from Ttest_data (pos = 19):\n",
      "\n",
      "    Q3, Q4\n",
      "\n",
      "The following objects are masked from Ttest_data (pos = 20):\n",
      "\n",
      "    Q2, Q8\n",
      "\n",
      "The following objects are masked from Ttest_data (pos = 21):\n",
      "\n",
      "    Q2, Q7\n",
      "\n",
      "The following objects are masked from Ttest_data (pos = 22):\n",
      "\n",
      "    Q2, Q6\n",
      "\n",
      "The following objects are masked from Ttest_data (pos = 23):\n",
      "\n",
      "    Q2, Q5\n",
      "\n",
      "The following objects are masked from Ttest_data (pos = 24):\n",
      "\n",
      "    Q2, Q4\n",
      "\n",
      "The following objects are masked from Ttest_data (pos = 25):\n",
      "\n",
      "    Q2, Q3\n",
      "\n",
      "The following objects are masked from Ttest_data (pos = 26):\n",
      "\n",
      "    Q1, Q8\n",
      "\n",
      "The following objects are masked from Ttest_data (pos = 27):\n",
      "\n",
      "    Q1, Q7\n",
      "\n",
      "The following objects are masked from Ttest_data (pos = 28):\n",
      "\n",
      "    Q1, Q6\n",
      "\n",
      "The following objects are masked from Ttest_data (pos = 29):\n",
      "\n",
      "    Q1, Q5\n",
      "\n",
      "The following objects are masked from Ttest_data (pos = 30):\n",
      "\n",
      "    Q1, Q4\n",
      "\n",
      "The following objects are masked from Ttest_data (pos = 31):\n",
      "\n",
      "    Q1, Q3\n",
      "\n",
      "The following objects are masked from Ttest_data (pos = 32):\n",
      "\n",
      "    Q1, Q2\n",
      "\n"
     ]
    }
   ],
   "source": [
    "attach(mydata)"
   ]
  },
  {
   "cell_type": "code",
   "execution_count": 103,
   "metadata": {},
   "outputs": [],
   "source": [
    "# Define Variables\n",
    "x <- cbind(Q1,Q2,Q3,Q4,Q5,Q6,Q7,Q8)"
   ]
  },
  {
   "cell_type": "code",
   "execution_count": 104,
   "metadata": {},
   "outputs": [
    {
     "data": {
      "text/plain": [
       "       Q1              Q2              Q3             Q4              Q5      \n",
       " Min.   :1.000   Min.   :1.000   Min.   :1.00   Min.   :1.000   Min.   :1.00  \n",
       " 1st Qu.:1.000   1st Qu.:2.000   1st Qu.:2.00   1st Qu.:2.000   1st Qu.:2.00  \n",
       " Median :2.000   Median :3.000   Median :2.00   Median :3.000   Median :2.00  \n",
       " Mean   :1.828   Mean   :3.206   Mean   :2.14   Mean   :2.547   Mean   :2.07  \n",
       " 3rd Qu.:2.000   3rd Qu.:4.000   3rd Qu.:2.00   3rd Qu.:3.000   3rd Qu.:2.00  \n",
       " Max.   :5.000   Max.   :5.000   Max.   :5.00   Max.   :5.000   Max.   :5.00  \n",
       "       Q6              Q7              Q8       \n",
       " Min.   :1.000   Min.   :1.000   Min.   :1.000  \n",
       " 1st Qu.:1.000   1st Qu.:1.000   1st Qu.:2.000  \n",
       " Median :2.000   Median :2.000   Median :2.000  \n",
       " Mean   :2.034   Mean   :1.733   Mean   :2.265  \n",
       " 3rd Qu.:2.000   3rd Qu.:2.000   3rd Qu.:3.000  \n",
       " Max.   :5.000   Max.   :5.000   Max.   :5.000  "
      ]
     },
     "metadata": {},
     "output_type": "display_data"
    },
    {
     "data": {
      "text/html": [
       "<table>\n",
       "<thead><tr><th></th><th scope=col>Q1</th><th scope=col>Q2</th><th scope=col>Q3</th><th scope=col>Q4</th><th scope=col>Q5</th><th scope=col>Q6</th><th scope=col>Q7</th><th scope=col>Q8</th></tr></thead>\n",
       "<tbody>\n",
       "\t<tr><th scope=row>Q1</th><td>1.000000000</td><td>0.1772585  </td><td>0.26806737 </td><td>0.1255220  </td><td>0.1407728  </td><td>0.08908168 </td><td>0.07073243 </td><td>0.004843475</td></tr>\n",
       "\t<tr><th scope=row>Q2</th><td>0.177258519</td><td>1.0000000  </td><td>0.10679940 </td><td>0.1635854  </td><td>0.1538900  </td><td>0.16933632 </td><td>0.13027723 </td><td>0.146094177</td></tr>\n",
       "\t<tr><th scope=row>Q3</th><td>0.268067373</td><td>0.1067994  </td><td>1.00000000 </td><td>0.3054275  </td><td>0.1343392  </td><td>0.13972092 </td><td>0.18181699 </td><td>0.023462872</td></tr>\n",
       "\t<tr><th scope=row>Q4</th><td>0.125522005</td><td>0.1635854  </td><td>0.30542746 </td><td>1.0000000  </td><td>0.1429560  </td><td>0.11957737 </td><td>0.15368558 </td><td>0.155930112</td></tr>\n",
       "\t<tr><th scope=row>Q5</th><td>0.140772832</td><td>0.1538900  </td><td>0.13433921 </td><td>0.1429560  </td><td>1.0000000  </td><td>0.43858367 </td><td>0.35123652 </td><td>0.207107742</td></tr>\n",
       "\t<tr><th scope=row>Q6</th><td>0.089081679</td><td>0.1693363  </td><td>0.13972092 </td><td>0.1195774  </td><td>0.4385837  </td><td>1.00000000 </td><td>0.39140203 </td><td>0.155334384</td></tr>\n",
       "\t<tr><th scope=row>Q7</th><td>0.070732428</td><td>0.1302772  </td><td>0.18181699 </td><td>0.1536856  </td><td>0.3512365  </td><td>0.39140203 </td><td>1.00000000 </td><td>0.272037710</td></tr>\n",
       "\t<tr><th scope=row>Q8</th><td>0.004843475</td><td>0.1460942  </td><td>0.02346287 </td><td>0.1559301  </td><td>0.2071077  </td><td>0.15533438 </td><td>0.27203771 </td><td>1.000000000</td></tr>\n",
       "</tbody>\n",
       "</table>\n"
      ],
      "text/latex": [
       "\\begin{tabular}{r|llllllll}\n",
       "  & Q1 & Q2 & Q3 & Q4 & Q5 & Q6 & Q7 & Q8\\\\\n",
       "\\hline\n",
       "\tQ1 & 1.000000000 & 0.1772585   & 0.26806737  & 0.1255220   & 0.1407728   & 0.08908168  & 0.07073243  & 0.004843475\\\\\n",
       "\tQ2 & 0.177258519 & 1.0000000   & 0.10679940  & 0.1635854   & 0.1538900   & 0.16933632  & 0.13027723  & 0.146094177\\\\\n",
       "\tQ3 & 0.268067373 & 0.1067994   & 1.00000000  & 0.3054275   & 0.1343392   & 0.13972092  & 0.18181699  & 0.023462872\\\\\n",
       "\tQ4 & 0.125522005 & 0.1635854   & 0.30542746  & 1.0000000   & 0.1429560   & 0.11957737  & 0.15368558  & 0.155930112\\\\\n",
       "\tQ5 & 0.140772832 & 0.1538900   & 0.13433921  & 0.1429560   & 1.0000000   & 0.43858367  & 0.35123652  & 0.207107742\\\\\n",
       "\tQ6 & 0.089081679 & 0.1693363   & 0.13972092  & 0.1195774   & 0.4385837   & 1.00000000  & 0.39140203  & 0.155334384\\\\\n",
       "\tQ7 & 0.070732428 & 0.1302772   & 0.18181699  & 0.1536856   & 0.3512365   & 0.39140203  & 1.00000000  & 0.272037710\\\\\n",
       "\tQ8 & 0.004843475 & 0.1460942   & 0.02346287  & 0.1559301   & 0.2071077   & 0.15533438  & 0.27203771  & 1.000000000\\\\\n",
       "\\end{tabular}\n"
      ],
      "text/markdown": [
       "\n",
       "| <!--/--> | Q1 | Q2 | Q3 | Q4 | Q5 | Q6 | Q7 | Q8 |\n",
       "|---|---|---|---|---|---|---|---|---|\n",
       "| Q1 | 1.000000000 | 0.1772585   | 0.26806737  | 0.1255220   | 0.1407728   | 0.08908168  | 0.07073243  | 0.004843475 |\n",
       "| Q2 | 0.177258519 | 1.0000000   | 0.10679940  | 0.1635854   | 0.1538900   | 0.16933632  | 0.13027723  | 0.146094177 |\n",
       "| Q3 | 0.268067373 | 0.1067994   | 1.00000000  | 0.3054275   | 0.1343392   | 0.13972092  | 0.18181699  | 0.023462872 |\n",
       "| Q4 | 0.125522005 | 0.1635854   | 0.30542746  | 1.0000000   | 0.1429560   | 0.11957737  | 0.15368558  | 0.155930112 |\n",
       "| Q5 | 0.140772832 | 0.1538900   | 0.13433921  | 0.1429560   | 1.0000000   | 0.43858367  | 0.35123652  | 0.207107742 |\n",
       "| Q6 | 0.089081679 | 0.1693363   | 0.13972092  | 0.1195774   | 0.4385837   | 1.00000000  | 0.39140203  | 0.155334384 |\n",
       "| Q7 | 0.070732428 | 0.1302772   | 0.18181699  | 0.1536856   | 0.3512365   | 0.39140203  | 1.00000000  | 0.272037710 |\n",
       "| Q8 | 0.004843475 | 0.1460942   | 0.02346287  | 0.1559301   | 0.2071077   | 0.15533438  | 0.27203771  | 1.000000000 |\n",
       "\n"
      ],
      "text/plain": [
       "   Q1          Q2        Q3         Q4        Q5        Q6         Q7        \n",
       "Q1 1.000000000 0.1772585 0.26806737 0.1255220 0.1407728 0.08908168 0.07073243\n",
       "Q2 0.177258519 1.0000000 0.10679940 0.1635854 0.1538900 0.16933632 0.13027723\n",
       "Q3 0.268067373 0.1067994 1.00000000 0.3054275 0.1343392 0.13972092 0.18181699\n",
       "Q4 0.125522005 0.1635854 0.30542746 1.0000000 0.1429560 0.11957737 0.15368558\n",
       "Q5 0.140772832 0.1538900 0.13433921 0.1429560 1.0000000 0.43858367 0.35123652\n",
       "Q6 0.089081679 0.1693363 0.13972092 0.1195774 0.4385837 1.00000000 0.39140203\n",
       "Q7 0.070732428 0.1302772 0.18181699 0.1536856 0.3512365 0.39140203 1.00000000\n",
       "Q8 0.004843475 0.1460942 0.02346287 0.1559301 0.2071077 0.15533438 0.27203771\n",
       "   Q8         \n",
       "Q1 0.004843475\n",
       "Q2 0.146094177\n",
       "Q3 0.023462872\n",
       "Q4 0.155930112\n",
       "Q5 0.207107742\n",
       "Q6 0.155334384\n",
       "Q7 0.272037710\n",
       "Q8 1.000000000"
      ]
     },
     "metadata": {},
     "output_type": "display_data"
    }
   ],
   "source": [
    "summary(x)\n",
    "cor(x)"
   ]
  },
  {
   "cell_type": "code",
   "execution_count": 105,
   "metadata": {},
   "outputs": [],
   "source": [
    "# Principal Component Analysis\n",
    "pca <-princomp(x, score=TRUE, cor=TRUE)"
   ]
  },
  {
   "cell_type": "code",
   "execution_count": 113,
   "metadata": {},
   "outputs": [
    {
     "data": {
      "text/plain": [
       "\n",
       "Loadings:\n",
       "   Comp.1 Comp.2 Comp.3 Comp.4 Comp.5 Comp.6 Comp.7 Comp.8\n",
       "Q1  0.239  0.515  0.314  0.340  0.565  0.199  0.304  0.108\n",
       "Q2  0.287  0.159 -0.280  0.751 -0.411 -0.250        -0.113\n",
       "Q3  0.309  0.524        -0.384        -0.420 -0.545       \n",
       "Q4  0.311  0.360 -0.459 -0.363 -0.336  0.438  0.354       \n",
       "Q5  0.444 -0.248  0.287                0.496 -0.339 -0.544\n",
       "Q6  0.438 -0.284  0.350        -0.270                0.728\n",
       "Q7  0.440 -0.275        -0.197  0.107 -0.529  0.543 -0.321\n",
       "Q8  0.294 -0.296 -0.630         0.560        -0.261  0.213\n",
       "\n",
       "               Comp.1 Comp.2 Comp.3 Comp.4 Comp.5 Comp.6 Comp.7 Comp.8\n",
       "SS loadings     1.000  1.000  1.000  1.000  1.000  1.000  1.000  1.000\n",
       "Proportion Var  0.125  0.125  0.125  0.125  0.125  0.125  0.125  0.125\n",
       "Cumulative Var  0.125  0.250  0.375  0.500  0.625  0.750  0.875  1.000"
      ]
     },
     "metadata": {},
     "output_type": "display_data"
    }
   ],
   "source": [
    "# Loading of Principal Components\n",
    "loadings(pca)"
   ]
  },
  {
   "cell_type": "code",
   "execution_count": 114,
   "metadata": {},
   "outputs": [
    {
     "data": {
      "image/png": "[encoded data removed]",
      "text/plain": [
       "Plot with title \"pca\""
      ]
     },
     "metadata": {},
     "output_type": "display_data"
    },
    {
     "data": {
      "image/png": "[encoded data removed]",
      "text/plain": [
       "Plot with title \"scree plot\""
      ]
     },
     "metadata": {},
     "output_type": "display_data"
    }
   ],
   "source": [
    "# Scree plot of eigenvalues\n",
    "plot(pca)\n",
    "screeplot(pca, type=\"line\", main=\"scree plot\")"
   ]
  },
  {
   "cell_type": "code",
   "execution_count": 115,
   "metadata": {},
   "outputs": [
    {
     "data": {
      "image/png": "[encoded data removed]",
      "text/plain": [
       "plot without title"
      ]
     },
     "metadata": {},
     "output_type": "display_data"
    }
   ],
   "source": [
    "# Biplot of score variables\n",
    "biplot(pca)"
   ]
  },
  {
   "cell_type": "code",
   "execution_count": 116,
   "metadata": {},
   "outputs": [
    {
     "data": {
      "text/html": [
       "<table>\n",
       "<thead><tr><th scope=col>Comp.1</th><th scope=col>Comp.2</th><th scope=col>Comp.3</th><th scope=col>Comp.4</th><th scope=col>Comp.5</th><th scope=col>Comp.6</th><th scope=col>Comp.7</th><th scope=col>Comp.8</th></tr></thead>\n",
       "<tbody>\n",
       "\t<tr><td> 1.46277091</td><td>-0.9998299 </td><td> 0.17894400</td><td>-0.8333243 </td><td> 1.39824796</td><td>-0.56838596</td><td>-1.03592660</td><td> 1.92539532</td></tr>\n",
       "\t<tr><td>-1.44649183</td><td>-0.6078596 </td><td>-0.66492490</td><td>-0.4697579 </td><td> 0.82158299</td><td> 0.30083286</td><td>-1.06992010</td><td>-0.21460450</td></tr>\n",
       "\t<tr><td>-1.79020533</td><td>-0.2624404 </td><td> 0.07084102</td><td>-0.5133456 </td><td> 0.16761981</td><td> 0.26159970</td><td>-0.76543988</td><td>-0.46390056</td></tr>\n",
       "\t<tr><td>-1.27987102</td><td>-0.6287631 </td><td> 0.15939204</td><td>-0.8122511 </td><td> 0.06740932</td><td>-1.00572279</td><td> 0.37205406</td><td> 0.49013461</td></tr>\n",
       "\t<tr><td> 0.43148577</td><td> 1.6094779 </td><td> 1.66996376</td><td>-0.1442367 </td><td> 2.32779516</td><td> 3.05034333</td><td> 0.20585513</td><td>-1.19750058</td></tr>\n",
       "\t<tr><td>-0.61626548</td><td>-1.2968281 </td><td> 2.00229172</td><td>-0.5352643 </td><td> 1.37095071</td><td> 0.01238184</td><td>-0.53165568</td><td>-0.64328221</td></tr>\n",
       "\t<tr><td>-0.03760166</td><td>-1.0694874 </td><td>-1.77909967</td><td> 0.5290174 </td><td> 0.95296003</td><td>-0.78621917</td><td>-0.76378537</td><td>-0.58485725</td></tr>\n",
       "\t<tr><td> 0.29902785</td><td> 0.7432054 </td><td> 0.33529455</td><td>-1.3973168 </td><td> 0.19493500</td><td>-0.16046807</td><td> 0.05658512</td><td>-0.01718609</td></tr>\n",
       "\t<tr><td> 0.49548099</td><td>-0.4337848 </td><td> 0.71308408</td><td> 0.8205451 </td><td>-0.07576396</td><td>-0.01976720</td><td>-0.25601349</td><td>-0.88546501</td></tr>\n",
       "\t<tr><td>-1.32628726</td><td>-0.7382483 </td><td>-0.29597407</td><td>-0.5076599 </td><td>-0.56836287</td><td> 1.41850224</td><td> 0.38484364</td><td> 0.30710758</td></tr>\n",
       "</tbody>\n",
       "</table>\n"
      ],
      "text/latex": [
       "\\begin{tabular}{llllllll}\n",
       " Comp.1 & Comp.2 & Comp.3 & Comp.4 & Comp.5 & Comp.6 & Comp.7 & Comp.8\\\\\n",
       "\\hline\n",
       "\t  1.46277091 & -0.9998299  &  0.17894400 & -0.8333243  &  1.39824796 & -0.56838596 & -1.03592660 &  1.92539532\\\\\n",
       "\t -1.44649183 & -0.6078596  & -0.66492490 & -0.4697579  &  0.82158299 &  0.30083286 & -1.06992010 & -0.21460450\\\\\n",
       "\t -1.79020533 & -0.2624404  &  0.07084102 & -0.5133456  &  0.16761981 &  0.26159970 & -0.76543988 & -0.46390056\\\\\n",
       "\t -1.27987102 & -0.6287631  &  0.15939204 & -0.8122511  &  0.06740932 & -1.00572279 &  0.37205406 &  0.49013461\\\\\n",
       "\t  0.43148577 &  1.6094779  &  1.66996376 & -0.1442367  &  2.32779516 &  3.05034333 &  0.20585513 & -1.19750058\\\\\n",
       "\t -0.61626548 & -1.2968281  &  2.00229172 & -0.5352643  &  1.37095071 &  0.01238184 & -0.53165568 & -0.64328221\\\\\n",
       "\t -0.03760166 & -1.0694874  & -1.77909967 &  0.5290174  &  0.95296003 & -0.78621917 & -0.76378537 & -0.58485725\\\\\n",
       "\t  0.29902785 &  0.7432054  &  0.33529455 & -1.3973168  &  0.19493500 & -0.16046807 &  0.05658512 & -0.01718609\\\\\n",
       "\t  0.49548099 & -0.4337848  &  0.71308408 &  0.8205451  & -0.07576396 & -0.01976720 & -0.25601349 & -0.88546501\\\\\n",
       "\t -1.32628726 & -0.7382483  & -0.29597407 & -0.5076599  & -0.56836287 &  1.41850224 &  0.38484364 &  0.30710758\\\\\n",
       "\\end{tabular}\n"
      ],
      "text/markdown": [
       "\n",
       "| Comp.1 | Comp.2 | Comp.3 | Comp.4 | Comp.5 | Comp.6 | Comp.7 | Comp.8 |\n",
       "|---|---|---|---|---|---|---|---|\n",
       "|  1.46277091 | -0.9998299  |  0.17894400 | -0.8333243  |  1.39824796 | -0.56838596 | -1.03592660 |  1.92539532 |\n",
       "| -1.44649183 | -0.6078596  | -0.66492490 | -0.4697579  |  0.82158299 |  0.30083286 | -1.06992010 | -0.21460450 |\n",
       "| -1.79020533 | -0.2624404  |  0.07084102 | -0.5133456  |  0.16761981 |  0.26159970 | -0.76543988 | -0.46390056 |\n",
       "| -1.27987102 | -0.6287631  |  0.15939204 | -0.8122511  |  0.06740932 | -1.00572279 |  0.37205406 |  0.49013461 |\n",
       "|  0.43148577 |  1.6094779  |  1.66996376 | -0.1442367  |  2.32779516 |  3.05034333 |  0.20585513 | -1.19750058 |\n",
       "| -0.61626548 | -1.2968281  |  2.00229172 | -0.5352643  |  1.37095071 |  0.01238184 | -0.53165568 | -0.64328221 |\n",
       "| -0.03760166 | -1.0694874  | -1.77909967 |  0.5290174  |  0.95296003 | -0.78621917 | -0.76378537 | -0.58485725 |\n",
       "|  0.29902785 |  0.7432054  |  0.33529455 | -1.3973168  |  0.19493500 | -0.16046807 |  0.05658512 | -0.01718609 |\n",
       "|  0.49548099 | -0.4337848  |  0.71308408 |  0.8205451  | -0.07576396 | -0.01976720 | -0.25601349 | -0.88546501 |\n",
       "| -1.32628726 | -0.7382483  | -0.29597407 | -0.5076599  | -0.56836287 |  1.41850224 |  0.38484364 |  0.30710758 |\n",
       "\n"
      ],
      "text/plain": [
       "      Comp.1      Comp.2     Comp.3      Comp.4     Comp.5      Comp.6     \n",
       " [1,]  1.46277091 -0.9998299  0.17894400 -0.8333243  1.39824796 -0.56838596\n",
       " [2,] -1.44649183 -0.6078596 -0.66492490 -0.4697579  0.82158299  0.30083286\n",
       " [3,] -1.79020533 -0.2624404  0.07084102 -0.5133456  0.16761981  0.26159970\n",
       " [4,] -1.27987102 -0.6287631  0.15939204 -0.8122511  0.06740932 -1.00572279\n",
       " [5,]  0.43148577  1.6094779  1.66996376 -0.1442367  2.32779516  3.05034333\n",
       " [6,] -0.61626548 -1.2968281  2.00229172 -0.5352643  1.37095071  0.01238184\n",
       " [7,] -0.03760166 -1.0694874 -1.77909967  0.5290174  0.95296003 -0.78621917\n",
       " [8,]  0.29902785  0.7432054  0.33529455 -1.3973168  0.19493500 -0.16046807\n",
       " [9,]  0.49548099 -0.4337848  0.71308408  0.8205451 -0.07576396 -0.01976720\n",
       "[10,] -1.32628726 -0.7382483 -0.29597407 -0.5076599 -0.56836287  1.41850224\n",
       "      Comp.7      Comp.8     \n",
       " [1,] -1.03592660  1.92539532\n",
       " [2,] -1.06992010 -0.21460450\n",
       " [3,] -0.76543988 -0.46390056\n",
       " [4,]  0.37205406  0.49013461\n",
       " [5,]  0.20585513 -1.19750058\n",
       " [6,] -0.53165568 -0.64328221\n",
       " [7,] -0.76378537 -0.58485725\n",
       " [8,]  0.05658512 -0.01718609\n",
       " [9,] -0.25601349 -0.88546501\n",
       "[10,]  0.38484364  0.30710758"
      ]
     },
     "metadata": {},
     "output_type": "display_data"
    }
   ],
   "source": [
    "# Scores of the components\n",
    "pca$scores[1:10,]"
   ]
  },
  {
   "cell_type": "code",
   "execution_count": null,
   "metadata": {},
   "outputs": [],
   "source": []
  }
 ],
 "metadata": {
  "kernelspec": {
   "display_name": "R",
   "language": "R",
   "name": "ir"
  },
  "language_info": {
   "codemirror_mode": "r",
   "file_extension": ".r",
   "mimetype": "text/x-r-source",
   "name": "R",
   "pygments_lexer": "r",
   "version": "3.6.1"
  }
 },
 "nbformat": 4,
 "nbformat_minor": 4
}
